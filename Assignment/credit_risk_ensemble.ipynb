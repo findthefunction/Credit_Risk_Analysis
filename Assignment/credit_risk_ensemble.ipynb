{
 "cells": [
  {
   "cell_type": "code",
   "execution_count": 20,
   "metadata": {},
   "outputs": [],
   "source": [
    "import warnings\n",
    "warnings.filterwarnings('ignore')"
   ]
  },
  {
   "cell_type": "code",
   "execution_count": 21,
   "metadata": {},
   "outputs": [],
   "source": [
    "import numpy as np\n",
    "import pandas as pd\n",
    "from pathlib import Path\n",
    "from collections import Counter"
   ]
  },
  {
   "cell_type": "code",
   "execution_count": 22,
   "metadata": {},
   "outputs": [],
   "source": [
    "from sklearn.metrics import balanced_accuracy_score\n",
    "from sklearn.metrics import confusion_matrix\n",
    "from imblearn.metrics import classification_report_imbalanced"
   ]
  },
  {
   "cell_type": "markdown",
   "metadata": {},
   "source": [
    "# Read the CSV and Perform Basic Data Cleaning"
   ]
  },
  {
   "cell_type": "code",
   "execution_count": 23,
   "metadata": {},
   "outputs": [],
   "source": [
    "# https://help.lendingclub.com/hc/en-us/articles/215488038-What-do-the-different-Note-statuses-mean-\n",
    "\n",
    "columns = [\n",
    "    \"loan_amnt\", \"int_rate\", \"installment\", \"home_ownership\",\n",
    "    \"annual_inc\", \"verification_status\", \"issue_d\", \"loan_status\",\n",
    "    \"pymnt_plan\", \"dti\", \"delinq_2yrs\", \"inq_last_6mths\",\n",
    "    \"open_acc\", \"pub_rec\", \"revol_bal\", \"total_acc\",\n",
    "    \"initial_list_status\", \"out_prncp\", \"out_prncp_inv\", \"total_pymnt\",\n",
    "    \"total_pymnt_inv\", \"total_rec_prncp\", \"total_rec_int\", \"total_rec_late_fee\",\n",
    "    \"recoveries\", \"collection_recovery_fee\", \"last_pymnt_amnt\", \"next_pymnt_d\",\n",
    "    \"collections_12_mths_ex_med\", \"policy_code\", \"application_type\", \"acc_now_delinq\",\n",
    "    \"tot_coll_amt\", \"tot_cur_bal\", \"open_acc_6m\", \"open_act_il\",\n",
    "    \"open_il_12m\", \"open_il_24m\", \"mths_since_rcnt_il\", \"total_bal_il\",\n",
    "    \"il_util\", \"open_rv_12m\", \"open_rv_24m\", \"max_bal_bc\",\n",
    "    \"all_util\", \"total_rev_hi_lim\", \"inq_fi\", \"total_cu_tl\",\n",
    "    \"inq_last_12m\", \"acc_open_past_24mths\", \"avg_cur_bal\", \"bc_open_to_buy\",\n",
    "    \"bc_util\", \"chargeoff_within_12_mths\", \"delinq_amnt\", \"mo_sin_old_il_acct\",\n",
    "    \"mo_sin_old_rev_tl_op\", \"mo_sin_rcnt_rev_tl_op\", \"mo_sin_rcnt_tl\", \"mort_acc\",\n",
    "    \"mths_since_recent_bc\", \"mths_since_recent_inq\", \"num_accts_ever_120_pd\", \"num_actv_bc_tl\",\n",
    "    \"num_actv_rev_tl\", \"num_bc_sats\", \"num_bc_tl\", \"num_il_tl\",\n",
    "    \"num_op_rev_tl\", \"num_rev_accts\", \"num_rev_tl_bal_gt_0\",\n",
    "    \"num_sats\", \"num_tl_120dpd_2m\", \"num_tl_30dpd\", \"num_tl_90g_dpd_24m\",\n",
    "    \"num_tl_op_past_12m\", \"pct_tl_nvr_dlq\", \"percent_bc_gt_75\", \"pub_rec_bankruptcies\",\n",
    "    \"tax_liens\", \"tot_hi_cred_lim\", \"total_bal_ex_mort\", \"total_bc_limit\",\n",
    "    \"total_il_high_credit_limit\", \"hardship_flag\", \"debt_settlement_flag\"\n",
    "]\n",
    "\n",
    "target = [\"loan_status\"]"
   ]
  },
  {
   "cell_type": "code",
   "execution_count": 24,
   "metadata": {},
   "outputs": [
    {
     "output_type": "execute_result",
     "data": {
      "text/plain": [
       "   loan_amnt  int_rate  installment home_ownership  annual_inc  \\\n",
       "0    10500.0    0.1719       375.35           RENT     66000.0   \n",
       "1    25000.0    0.2000       929.09       MORTGAGE    105000.0   \n",
       "2    20000.0    0.2000       529.88       MORTGAGE     56000.0   \n",
       "3    10000.0    0.1640       353.55           RENT     92000.0   \n",
       "4    22000.0    0.1474       520.39       MORTGAGE     52000.0   \n",
       "\n",
       "  verification_status   issue_d loan_status pymnt_plan    dti  ...  \\\n",
       "0     Source Verified  Mar-2019    low_risk          n  27.24  ...   \n",
       "1            Verified  Mar-2019    low_risk          n  20.23  ...   \n",
       "2            Verified  Mar-2019    low_risk          n  24.26  ...   \n",
       "3            Verified  Mar-2019    low_risk          n  31.44  ...   \n",
       "4        Not Verified  Mar-2019    low_risk          n  18.76  ...   \n",
       "\n",
       "   pct_tl_nvr_dlq  percent_bc_gt_75  pub_rec_bankruptcies  tax_liens  \\\n",
       "0            85.7             100.0                   0.0        0.0   \n",
       "1            91.2              50.0                   1.0        0.0   \n",
       "2            66.7              50.0                   0.0        0.0   \n",
       "3           100.0              50.0                   1.0        0.0   \n",
       "4           100.0               0.0                   0.0        0.0   \n",
       "\n",
       "   tot_hi_cred_lim  total_bal_ex_mort total_bc_limit  \\\n",
       "0          65687.0            38199.0         2000.0   \n",
       "1         271427.0            60641.0        41200.0   \n",
       "2          60644.0            45684.0         7500.0   \n",
       "3          99506.0            68784.0        19700.0   \n",
       "4         219750.0            25919.0        27600.0   \n",
       "\n",
       "   total_il_high_credit_limit  hardship_flag  debt_settlement_flag  \n",
       "0                     61987.0              N                     N  \n",
       "1                     49197.0              N                     N  \n",
       "2                     43144.0              N                     N  \n",
       "3                     76506.0              N                     N  \n",
       "4                     20000.0              N                     N  \n",
       "\n",
       "[5 rows x 86 columns]"
      ],
      "text/html": "<div>\n<style scoped>\n    .dataframe tbody tr th:only-of-type {\n        vertical-align: middle;\n    }\n\n    .dataframe tbody tr th {\n        vertical-align: top;\n    }\n\n    .dataframe thead th {\n        text-align: right;\n    }\n</style>\n<table border=\"1\" class=\"dataframe\">\n  <thead>\n    <tr style=\"text-align: right;\">\n      <th></th>\n      <th>loan_amnt</th>\n      <th>int_rate</th>\n      <th>installment</th>\n      <th>home_ownership</th>\n      <th>annual_inc</th>\n      <th>verification_status</th>\n      <th>issue_d</th>\n      <th>loan_status</th>\n      <th>pymnt_plan</th>\n      <th>dti</th>\n      <th>...</th>\n      <th>pct_tl_nvr_dlq</th>\n      <th>percent_bc_gt_75</th>\n      <th>pub_rec_bankruptcies</th>\n      <th>tax_liens</th>\n      <th>tot_hi_cred_lim</th>\n      <th>total_bal_ex_mort</th>\n      <th>total_bc_limit</th>\n      <th>total_il_high_credit_limit</th>\n      <th>hardship_flag</th>\n      <th>debt_settlement_flag</th>\n    </tr>\n  </thead>\n  <tbody>\n    <tr>\n      <th>0</th>\n      <td>10500.0</td>\n      <td>0.1719</td>\n      <td>375.35</td>\n      <td>RENT</td>\n      <td>66000.0</td>\n      <td>Source Verified</td>\n      <td>Mar-2019</td>\n      <td>low_risk</td>\n      <td>n</td>\n      <td>27.24</td>\n      <td>...</td>\n      <td>85.7</td>\n      <td>100.0</td>\n      <td>0.0</td>\n      <td>0.0</td>\n      <td>65687.0</td>\n      <td>38199.0</td>\n      <td>2000.0</td>\n      <td>61987.0</td>\n      <td>N</td>\n      <td>N</td>\n    </tr>\n    <tr>\n      <th>1</th>\n      <td>25000.0</td>\n      <td>0.2000</td>\n      <td>929.09</td>\n      <td>MORTGAGE</td>\n      <td>105000.0</td>\n      <td>Verified</td>\n      <td>Mar-2019</td>\n      <td>low_risk</td>\n      <td>n</td>\n      <td>20.23</td>\n      <td>...</td>\n      <td>91.2</td>\n      <td>50.0</td>\n      <td>1.0</td>\n      <td>0.0</td>\n      <td>271427.0</td>\n      <td>60641.0</td>\n      <td>41200.0</td>\n      <td>49197.0</td>\n      <td>N</td>\n      <td>N</td>\n    </tr>\n    <tr>\n      <th>2</th>\n      <td>20000.0</td>\n      <td>0.2000</td>\n      <td>529.88</td>\n      <td>MORTGAGE</td>\n      <td>56000.0</td>\n      <td>Verified</td>\n      <td>Mar-2019</td>\n      <td>low_risk</td>\n      <td>n</td>\n      <td>24.26</td>\n      <td>...</td>\n      <td>66.7</td>\n      <td>50.0</td>\n      <td>0.0</td>\n      <td>0.0</td>\n      <td>60644.0</td>\n      <td>45684.0</td>\n      <td>7500.0</td>\n      <td>43144.0</td>\n      <td>N</td>\n      <td>N</td>\n    </tr>\n    <tr>\n      <th>3</th>\n      <td>10000.0</td>\n      <td>0.1640</td>\n      <td>353.55</td>\n      <td>RENT</td>\n      <td>92000.0</td>\n      <td>Verified</td>\n      <td>Mar-2019</td>\n      <td>low_risk</td>\n      <td>n</td>\n      <td>31.44</td>\n      <td>...</td>\n      <td>100.0</td>\n      <td>50.0</td>\n      <td>1.0</td>\n      <td>0.0</td>\n      <td>99506.0</td>\n      <td>68784.0</td>\n      <td>19700.0</td>\n      <td>76506.0</td>\n      <td>N</td>\n      <td>N</td>\n    </tr>\n    <tr>\n      <th>4</th>\n      <td>22000.0</td>\n      <td>0.1474</td>\n      <td>520.39</td>\n      <td>MORTGAGE</td>\n      <td>52000.0</td>\n      <td>Not Verified</td>\n      <td>Mar-2019</td>\n      <td>low_risk</td>\n      <td>n</td>\n      <td>18.76</td>\n      <td>...</td>\n      <td>100.0</td>\n      <td>0.0</td>\n      <td>0.0</td>\n      <td>0.0</td>\n      <td>219750.0</td>\n      <td>25919.0</td>\n      <td>27600.0</td>\n      <td>20000.0</td>\n      <td>N</td>\n      <td>N</td>\n    </tr>\n  </tbody>\n</table>\n<p>5 rows × 86 columns</p>\n</div>"
     },
     "metadata": {},
     "execution_count": 24
    }
   ],
   "source": [
    "# Load the data\n",
    "file_path = Path('LoanStats_2019Q1.csv')\n",
    "df = pd.read_csv(file_path, skiprows=1)[:-2]\n",
    "df = df.loc[:, columns].copy()\n",
    "\n",
    "# Drop the null columns where all values are null\n",
    "df = df.dropna(axis='columns', how='all')\n",
    "\n",
    "# Drop the null rows\n",
    "df = df.dropna()\n",
    "\n",
    "# Remove the `Issued` loan status\n",
    "issued_mask = df['loan_status'] != 'Issued'\n",
    "df = df.loc[issued_mask]\n",
    "\n",
    "# convert interest rate to numerical\n",
    "df['int_rate'] = df['int_rate'].str.replace('%', '')\n",
    "df['int_rate'] = df['int_rate'].astype('float') / 100\n",
    "\n",
    "\n",
    "# Convert the target column values to low_risk and high_risk based on their values\n",
    "x = {'Current': 'low_risk'}   \n",
    "df = df.replace(x)\n",
    "\n",
    "x = dict.fromkeys(['Late (31-120 days)', 'Late (16-30 days)', 'Default', 'In Grace Period'], 'high_risk')    \n",
    "df = df.replace(x)\n",
    "\n",
    "df.reset_index(inplace=True, drop=True)\n",
    "\n",
    "df.head()"
   ]
  },
  {
   "cell_type": "markdown",
   "metadata": {},
   "source": [
    "# Split the Data into Training and Testing"
   ]
  },
  {
   "cell_type": "code",
   "execution_count": 128,
   "metadata": {},
   "outputs": [],
   "source": [
    "# Create our features\n",
    "X = df.drop(\"loan_status\", axis = 1)\n",
    "X = pd.get_dummies(X)\n",
    "# Create our target\n",
    "pd.set_option('display.max_columns', None)\n",
    "y = df['loan_status']"
   ]
  },
  {
   "cell_type": "code",
   "execution_count": 129,
   "metadata": {},
   "outputs": [
    {
     "output_type": "execute_result",
     "data": {
      "text/plain": [
       "          loan_amnt      int_rate   installment    annual_inc           dti  \\\n",
       "count  68817.000000  68817.000000  68817.000000  6.881700e+04  68817.000000   \n",
       "mean   16677.594562      0.127718    480.652863  8.821371e+04     21.778153   \n",
       "std    10277.348590      0.048130    288.062432  1.155800e+05     20.199244   \n",
       "min     1000.000000      0.060000     30.890000  4.000000e+01      0.000000   \n",
       "25%     9000.000000      0.088100    265.730000  5.000000e+04     13.890000   \n",
       "50%    15000.000000      0.118000    404.560000  7.300000e+04     19.760000   \n",
       "75%    24000.000000      0.155700    648.100000  1.040000e+05     26.660000   \n",
       "max    40000.000000      0.308400   1676.230000  8.797500e+06    999.000000   \n",
       "\n",
       "        delinq_2yrs  inq_last_6mths      open_acc       pub_rec  \\\n",
       "count  68817.000000    68817.000000  68817.000000  68817.000000   \n",
       "mean       0.217766        0.497697     12.587340      0.126030   \n",
       "std        0.718367        0.758122      6.022869      0.336797   \n",
       "min        0.000000        0.000000      2.000000      0.000000   \n",
       "25%        0.000000        0.000000      8.000000      0.000000   \n",
       "50%        0.000000        0.000000     11.000000      0.000000   \n",
       "75%        0.000000        1.000000     16.000000      0.000000   \n",
       "max       18.000000        5.000000     72.000000      4.000000   \n",
       "\n",
       "           revol_bal     total_acc     out_prncp  out_prncp_inv   total_pymnt  \\\n",
       "count   68817.000000  68817.000000  68817.000000   68817.000000  68817.000000   \n",
       "mean    17604.142828     24.666347  16018.845833   16015.919519    970.639473   \n",
       "std     21835.880400     12.318917  10002.695495   10004.985940   1229.563301   \n",
       "min         0.000000      3.000000      0.000000       0.000000      0.000000   \n",
       "25%      6293.000000     16.000000   8578.800000    8576.500000    403.760000   \n",
       "50%     12068.000000     23.000000  14067.750000   14061.030000    710.790000   \n",
       "75%     21735.000000     31.000000  22860.700000   22860.490000   1214.600000   \n",
       "max    587191.000000    164.000000  40000.000000   40000.000000  41418.981165   \n",
       "\n",
       "       total_pymnt_inv  total_rec_prncp  total_rec_int  total_rec_late_fee  \\\n",
       "count     68817.000000     68817.000000   68817.000000        68817.000000   \n",
       "mean        970.431151       658.748750     311.855687            0.035072   \n",
       "std        1229.569864      1126.237377     279.786954            1.086720   \n",
       "min           0.000000         0.000000       0.000000            0.000000   \n",
       "25%         403.550000       250.370000     115.440000            0.000000   \n",
       "50%         710.790000       449.890000     225.250000            0.000000   \n",
       "75%        1214.590000       762.170000     415.710000            0.000000   \n",
       "max       41418.980000     40000.000000    2735.400000           75.240000   \n",
       "\n",
       "       recoveries  collection_recovery_fee  last_pymnt_amnt  \\\n",
       "count     68817.0                  68817.0     68817.000000   \n",
       "mean          0.0                      0.0       517.202218   \n",
       "std           0.0                      0.0       816.021053   \n",
       "min           0.0                      0.0         0.000000   \n",
       "25%           0.0                      0.0       267.110000   \n",
       "50%           0.0                      0.0       408.520000   \n",
       "75%           0.0                      0.0       652.580000   \n",
       "max           0.0                      0.0     40500.340000   \n",
       "\n",
       "       collections_12_mths_ex_med  policy_code  acc_now_delinq   tot_coll_amt  \\\n",
       "count                68817.000000      68817.0         68817.0   68817.000000   \n",
       "mean                     0.016188          1.0             0.0     188.664298   \n",
       "std                      0.134774          0.0             0.0    1808.457195   \n",
       "min                      0.000000          1.0             0.0       0.000000   \n",
       "25%                      0.000000          1.0             0.0       0.000000   \n",
       "50%                      0.000000          1.0             0.0       0.000000   \n",
       "75%                      0.000000          1.0             0.0       0.000000   \n",
       "max                      4.000000          1.0             0.0  159199.000000   \n",
       "\n",
       "        tot_cur_bal   open_acc_6m   open_act_il   open_il_12m   open_il_24m  \\\n",
       "count  6.881700e+04  68817.000000  68817.000000  68817.000000  68817.000000   \n",
       "mean   1.634976e+05      1.023047      3.290481      0.843730      1.909644   \n",
       "std    1.723699e+05      1.176782      2.965579      0.970543      1.544994   \n",
       "min    2.350000e+02      0.000000      0.000000      0.000000      0.000000   \n",
       "25%    3.570000e+04      0.000000      2.000000      0.000000      1.000000   \n",
       "50%    9.960600e+04      1.000000      2.000000      1.000000      2.000000   \n",
       "75%    2.472060e+05      2.000000      4.000000      1.000000      3.000000   \n",
       "max    3.140082e+06     14.000000     63.000000      6.000000     22.000000   \n",
       "\n",
       "       mths_since_rcnt_il  total_bal_il      il_util   open_rv_12m  \\\n",
       "count        68817.000000  6.881700e+04  68817.00000  68817.000000   \n",
       "mean            14.303152  4.324044e+04     69.21191      1.240042   \n",
       "std             13.972619  4.956130e+04     22.33711      1.471745   \n",
       "min              0.000000  1.000000e+00      0.00000      0.000000   \n",
       "25%              6.000000  1.422300e+04     56.00000      0.000000   \n",
       "50%             11.000000  2.862600e+04     71.00000      1.000000   \n",
       "75%             18.000000  5.406500e+04     85.00000      2.000000   \n",
       "max            389.000000  1.260281e+06    313.00000     18.000000   \n",
       "\n",
       "        open_rv_24m     max_bal_bc      all_util  total_rev_hi_lim  \\\n",
       "count  68817.000000   68817.000000  68817.000000      68817.000000   \n",
       "mean       2.622245    6297.491710     55.702472      42431.895360   \n",
       "std        2.502608    5702.281757     18.495480      37166.229316   \n",
       "min        0.000000       0.000000      1.000000        200.000000   \n",
       "25%        1.000000    2558.000000     43.000000      19200.000000   \n",
       "50%        2.000000    4874.000000     56.000000      32800.000000   \n",
       "75%        4.000000    8321.000000     68.000000      54100.000000   \n",
       "max       44.000000  207484.000000    216.000000     759500.000000   \n",
       "\n",
       "             inq_fi   total_cu_tl  inq_last_12m  acc_open_past_24mths  \\\n",
       "count  68817.000000  68817.000000  68817.000000          68817.000000   \n",
       "mean       1.382071      1.687795      2.189023              4.827572   \n",
       "std        1.543220      2.852664      2.396186              3.145377   \n",
       "min        0.000000      0.000000      0.000000              0.000000   \n",
       "25%        0.000000      0.000000      1.000000              3.000000   \n",
       "50%        1.000000      1.000000      2.000000              4.000000   \n",
       "75%        2.000000      2.000000      3.000000              6.000000   \n",
       "max       29.000000     70.000000     42.000000             45.000000   \n",
       "\n",
       "         avg_cur_bal  bc_open_to_buy       bc_util  chargeoff_within_12_mths  \\\n",
       "count   68817.000000    68817.000000  68817.000000              68817.000000   \n",
       "mean    14142.936193    16991.852667     48.330667                  0.006830   \n",
       "std     15863.878993    20447.276820     28.106287                  0.087327   \n",
       "min        20.000000        0.000000      0.000000                  0.000000   \n",
       "25%      3505.000000     3644.000000     25.400000                  0.000000   \n",
       "50%      8261.000000    10239.000000     46.400000                  0.000000   \n",
       "75%     19859.000000    22806.000000     71.100000                  0.000000   \n",
       "max    448583.000000   506507.000000    169.500000                  2.000000   \n",
       "\n",
       "        delinq_amnt  mo_sin_old_il_acct  mo_sin_old_rev_tl_op  \\\n",
       "count  68817.000000        68817.000000          68817.000000   \n",
       "mean       2.347065          125.468605            175.136841   \n",
       "std      301.312407           56.968853             99.149467   \n",
       "min        0.000000            0.000000              5.000000   \n",
       "25%        0.000000           87.000000            101.000000   \n",
       "50%        0.000000          132.000000            157.000000   \n",
       "75%        0.000000          159.000000            226.000000   \n",
       "max    65000.000000          606.000000            902.000000   \n",
       "\n",
       "       mo_sin_rcnt_rev_tl_op  mo_sin_rcnt_tl      mort_acc  \\\n",
       "count           68817.000000    68817.000000  68817.000000   \n",
       "mean               14.294215        7.179781      1.441882   \n",
       "std                17.417118        6.303066      1.747777   \n",
       "min                 0.000000        0.000000      0.000000   \n",
       "25%                 4.000000        3.000000      0.000000   \n",
       "50%                 9.000000        5.000000      1.000000   \n",
       "75%                19.000000       10.000000      2.000000   \n",
       "max               564.000000      170.000000     20.000000   \n",
       "\n",
       "       mths_since_recent_bc  mths_since_recent_inq  num_accts_ever_120_pd  \\\n",
       "count          68817.000000           68817.000000           68817.000000   \n",
       "mean              24.714954               7.688028               0.472485   \n",
       "std               32.130889               6.034861               1.410819   \n",
       "min                0.000000               0.000000               0.000000   \n",
       "25%                6.000000               3.000000               0.000000   \n",
       "50%               15.000000               6.000000               0.000000   \n",
       "75%               31.000000              12.000000               0.000000   \n",
       "max              564.000000              24.000000              34.000000   \n",
       "\n",
       "       num_actv_bc_tl  num_actv_rev_tl   num_bc_sats     num_bc_tl  \\\n",
       "count    68817.000000     68817.000000  68817.000000  68817.000000   \n",
       "mean         3.806123         5.648038      5.135156      7.414403   \n",
       "std          2.464504         3.470941      3.230651      4.581371   \n",
       "min          0.000000         0.000000      0.000000      1.000000   \n",
       "25%          2.000000         3.000000      3.000000      4.000000   \n",
       "50%          3.000000         5.000000      4.000000      6.000000   \n",
       "75%          5.000000         7.000000      7.000000     10.000000   \n",
       "max         26.000000        43.000000     43.000000     60.000000   \n",
       "\n",
       "          num_il_tl  num_op_rev_tl  num_rev_accts  num_rev_tl_bal_gt_0  \\\n",
       "count  68817.000000   68817.000000   68817.000000         68817.000000   \n",
       "mean       9.500153       8.630818      13.517663             5.653036   \n",
       "std        7.573846       5.056994       8.026158             3.472679   \n",
       "min        1.000000       1.000000       2.000000             0.000000   \n",
       "25%        4.000000       5.000000       8.000000             3.000000   \n",
       "50%        7.000000       8.000000      12.000000             5.000000   \n",
       "75%       12.000000      11.000000      17.000000             7.000000   \n",
       "max      149.000000      70.000000      98.000000            43.000000   \n",
       "\n",
       "           num_sats  num_tl_120dpd_2m  num_tl_30dpd  num_tl_90g_dpd_24m  \\\n",
       "count  68817.000000           68817.0       68817.0        68817.000000   \n",
       "mean      12.571995               0.0           0.0            0.052138   \n",
       "std        6.021318               0.0           0.0            0.390633   \n",
       "min        2.000000               0.0           0.0            0.000000   \n",
       "25%        8.000000               0.0           0.0            0.000000   \n",
       "50%       11.000000               0.0           0.0            0.000000   \n",
       "75%       16.000000               0.0           0.0            0.000000   \n",
       "max       72.000000               0.0           0.0           18.000000   \n",
       "\n",
       "       num_tl_op_past_12m  pct_tl_nvr_dlq  percent_bc_gt_75  \\\n",
       "count        68817.000000    68817.000000      68817.000000   \n",
       "mean             2.219423       95.057627         30.626217   \n",
       "std              1.897432        8.326426         33.631463   \n",
       "min              0.000000       20.000000          0.000000   \n",
       "25%              1.000000       93.000000          0.000000   \n",
       "50%              2.000000      100.000000         20.000000   \n",
       "75%              3.000000      100.000000         50.000000   \n",
       "max             19.000000      100.000000        100.000000   \n",
       "\n",
       "       pub_rec_bankruptcies  tax_liens  tot_hi_cred_lim  total_bal_ex_mort  \\\n",
       "count          68817.000000    68817.0     6.881700e+04       6.881700e+04   \n",
       "mean               0.125972        0.0     2.100332e+05       6.133843e+04   \n",
       "std                0.336732        0.0     1.928088e+05       5.738798e+04   \n",
       "min                0.000000        0.0     3.600000e+03       2.350000e+02   \n",
       "25%                0.000000        0.0     6.697700e+04       2.650300e+04   \n",
       "50%                0.000000        0.0     1.467100e+05       4.535700e+04   \n",
       "75%                0.000000        0.0     3.036400e+05       7.657000e+04   \n",
       "max                4.000000        0.0     3.292782e+06       1.295455e+06   \n",
       "\n",
       "       total_bc_limit  total_il_high_credit_limit  home_ownership_ANY  \\\n",
       "count    68817.000000                6.881700e+04        68817.000000   \n",
       "mean     29734.128558                5.572240e+04            0.009285   \n",
       "std      26795.394232                5.095845e+04            0.095914   \n",
       "min        100.000000                1.270000e+02            0.000000   \n",
       "25%      11600.000000                2.288000e+04            0.000000   \n",
       "50%      22100.000000                4.200000e+04            0.000000   \n",
       "75%      39300.000000                7.249900e+04            0.000000   \n",
       "max     509400.000000                1.426964e+06            1.000000   \n",
       "\n",
       "       home_ownership_MORTGAGE  home_ownership_OWN  home_ownership_RENT  \\\n",
       "count             68817.000000        68817.000000         68817.000000   \n",
       "mean                  0.526309            0.106747             0.357659   \n",
       "std                   0.499311            0.308793             0.479314   \n",
       "min                   0.000000            0.000000             0.000000   \n",
       "25%                   0.000000            0.000000             0.000000   \n",
       "50%                   1.000000            0.000000             0.000000   \n",
       "75%                   1.000000            0.000000             1.000000   \n",
       "max                   1.000000            1.000000             1.000000   \n",
       "\n",
       "       verification_status_Not Verified  verification_status_Source Verified  \\\n",
       "count                      68817.000000                         68817.000000   \n",
       "mean                           0.478007                             0.373992   \n",
       "std                            0.499520                             0.483865   \n",
       "min                            0.000000                             0.000000   \n",
       "25%                            0.000000                             0.000000   \n",
       "50%                            0.000000                             0.000000   \n",
       "75%                            1.000000                             1.000000   \n",
       "max                            1.000000                             1.000000   \n",
       "\n",
       "       verification_status_Verified  issue_d_Feb-2019  issue_d_Jan-2019  \\\n",
       "count                  68817.000000      68817.000000      68817.000000   \n",
       "mean                       0.148001          0.371696          0.451066   \n",
       "std                        0.355104          0.483261          0.497603   \n",
       "min                        0.000000          0.000000          0.000000   \n",
       "25%                        0.000000          0.000000          0.000000   \n",
       "50%                        0.000000          0.000000          0.000000   \n",
       "75%                        0.000000          1.000000          1.000000   \n",
       "max                        1.000000          1.000000          1.000000   \n",
       "\n",
       "       issue_d_Mar-2019  pymnt_plan_n  initial_list_status_f  \\\n",
       "count      68817.000000       68817.0           68817.000000   \n",
       "mean           0.177238           1.0               0.123879   \n",
       "std            0.381873           0.0               0.329446   \n",
       "min            0.000000           1.0               0.000000   \n",
       "25%            0.000000           1.0               0.000000   \n",
       "50%            0.000000           1.0               0.000000   \n",
       "75%            0.000000           1.0               0.000000   \n",
       "max            1.000000           1.0               1.000000   \n",
       "\n",
       "       initial_list_status_w  next_pymnt_d_Apr-2019  next_pymnt_d_May-2019  \\\n",
       "count           68817.000000           68817.000000           68817.000000   \n",
       "mean                0.876121               0.383161               0.616839   \n",
       "std                 0.329446               0.486161               0.486161   \n",
       "min                 0.000000               0.000000               0.000000   \n",
       "25%                 1.000000               0.000000               0.000000   \n",
       "50%                 1.000000               0.000000               1.000000   \n",
       "75%                 1.000000               1.000000               1.000000   \n",
       "max                 1.000000               1.000000               1.000000   \n",
       "\n",
       "       application_type_Individual  application_type_Joint App  \\\n",
       "count                 68817.000000                68817.000000   \n",
       "mean                      0.860340                    0.139660   \n",
       "std                       0.346637                    0.346637   \n",
       "min                       0.000000                    0.000000   \n",
       "25%                       1.000000                    0.000000   \n",
       "50%                       1.000000                    0.000000   \n",
       "75%                       1.000000                    0.000000   \n",
       "max                       1.000000                    1.000000   \n",
       "\n",
       "       hardship_flag_N  debt_settlement_flag_N  \n",
       "count          68817.0                 68817.0  \n",
       "mean               1.0                     1.0  \n",
       "std                0.0                     0.0  \n",
       "min                1.0                     1.0  \n",
       "25%                1.0                     1.0  \n",
       "50%                1.0                     1.0  \n",
       "75%                1.0                     1.0  \n",
       "max                1.0                     1.0  "
      ],
      "text/html": "<div>\n<style scoped>\n    .dataframe tbody tr th:only-of-type {\n        vertical-align: middle;\n    }\n\n    .dataframe tbody tr th {\n        vertical-align: top;\n    }\n\n    .dataframe thead th {\n        text-align: right;\n    }\n</style>\n<table border=\"1\" class=\"dataframe\">\n  <thead>\n    <tr style=\"text-align: right;\">\n      <th></th>\n      <th>loan_amnt</th>\n      <th>int_rate</th>\n      <th>installment</th>\n      <th>annual_inc</th>\n      <th>dti</th>\n      <th>delinq_2yrs</th>\n      <th>inq_last_6mths</th>\n      <th>open_acc</th>\n      <th>pub_rec</th>\n      <th>revol_bal</th>\n      <th>total_acc</th>\n      <th>out_prncp</th>\n      <th>out_prncp_inv</th>\n      <th>total_pymnt</th>\n      <th>total_pymnt_inv</th>\n      <th>total_rec_prncp</th>\n      <th>total_rec_int</th>\n      <th>total_rec_late_fee</th>\n      <th>recoveries</th>\n      <th>collection_recovery_fee</th>\n      <th>last_pymnt_amnt</th>\n      <th>collections_12_mths_ex_med</th>\n      <th>policy_code</th>\n      <th>acc_now_delinq</th>\n      <th>tot_coll_amt</th>\n      <th>tot_cur_bal</th>\n      <th>open_acc_6m</th>\n      <th>open_act_il</th>\n      <th>open_il_12m</th>\n      <th>open_il_24m</th>\n      <th>mths_since_rcnt_il</th>\n      <th>total_bal_il</th>\n      <th>il_util</th>\n      <th>open_rv_12m</th>\n      <th>open_rv_24m</th>\n      <th>max_bal_bc</th>\n      <th>all_util</th>\n      <th>total_rev_hi_lim</th>\n      <th>inq_fi</th>\n      <th>total_cu_tl</th>\n      <th>inq_last_12m</th>\n      <th>acc_open_past_24mths</th>\n      <th>avg_cur_bal</th>\n      <th>bc_open_to_buy</th>\n      <th>bc_util</th>\n      <th>chargeoff_within_12_mths</th>\n      <th>delinq_amnt</th>\n      <th>mo_sin_old_il_acct</th>\n      <th>mo_sin_old_rev_tl_op</th>\n      <th>mo_sin_rcnt_rev_tl_op</th>\n      <th>mo_sin_rcnt_tl</th>\n      <th>mort_acc</th>\n      <th>mths_since_recent_bc</th>\n      <th>mths_since_recent_inq</th>\n      <th>num_accts_ever_120_pd</th>\n      <th>num_actv_bc_tl</th>\n      <th>num_actv_rev_tl</th>\n      <th>num_bc_sats</th>\n      <th>num_bc_tl</th>\n      <th>num_il_tl</th>\n      <th>num_op_rev_tl</th>\n      <th>num_rev_accts</th>\n      <th>num_rev_tl_bal_gt_0</th>\n      <th>num_sats</th>\n      <th>num_tl_120dpd_2m</th>\n      <th>num_tl_30dpd</th>\n      <th>num_tl_90g_dpd_24m</th>\n      <th>num_tl_op_past_12m</th>\n      <th>pct_tl_nvr_dlq</th>\n      <th>percent_bc_gt_75</th>\n      <th>pub_rec_bankruptcies</th>\n      <th>tax_liens</th>\n      <th>tot_hi_cred_lim</th>\n      <th>total_bal_ex_mort</th>\n      <th>total_bc_limit</th>\n      <th>total_il_high_credit_limit</th>\n      <th>home_ownership_ANY</th>\n      <th>home_ownership_MORTGAGE</th>\n      <th>home_ownership_OWN</th>\n      <th>home_ownership_RENT</th>\n      <th>verification_status_Not Verified</th>\n      <th>verification_status_Source Verified</th>\n      <th>verification_status_Verified</th>\n      <th>issue_d_Feb-2019</th>\n      <th>issue_d_Jan-2019</th>\n      <th>issue_d_Mar-2019</th>\n      <th>pymnt_plan_n</th>\n      <th>initial_list_status_f</th>\n      <th>initial_list_status_w</th>\n      <th>next_pymnt_d_Apr-2019</th>\n      <th>next_pymnt_d_May-2019</th>\n      <th>application_type_Individual</th>\n      <th>application_type_Joint App</th>\n      <th>hardship_flag_N</th>\n      <th>debt_settlement_flag_N</th>\n    </tr>\n  </thead>\n  <tbody>\n    <tr>\n      <th>count</th>\n      <td>68817.000000</td>\n      <td>68817.000000</td>\n      <td>68817.000000</td>\n      <td>6.881700e+04</td>\n      <td>68817.000000</td>\n      <td>68817.000000</td>\n      <td>68817.000000</td>\n      <td>68817.000000</td>\n      <td>68817.000000</td>\n      <td>68817.000000</td>\n      <td>68817.000000</td>\n      <td>68817.000000</td>\n      <td>68817.000000</td>\n      <td>68817.000000</td>\n      <td>68817.000000</td>\n      <td>68817.000000</td>\n      <td>68817.000000</td>\n      <td>68817.000000</td>\n      <td>68817.0</td>\n      <td>68817.0</td>\n      <td>68817.000000</td>\n      <td>68817.000000</td>\n      <td>68817.0</td>\n      <td>68817.0</td>\n      <td>68817.000000</td>\n      <td>6.881700e+04</td>\n      <td>68817.000000</td>\n      <td>68817.000000</td>\n      <td>68817.000000</td>\n      <td>68817.000000</td>\n      <td>68817.000000</td>\n      <td>6.881700e+04</td>\n      <td>68817.00000</td>\n      <td>68817.000000</td>\n      <td>68817.000000</td>\n      <td>68817.000000</td>\n      <td>68817.000000</td>\n      <td>68817.000000</td>\n      <td>68817.000000</td>\n      <td>68817.000000</td>\n      <td>68817.000000</td>\n      <td>68817.000000</td>\n      <td>68817.000000</td>\n      <td>68817.000000</td>\n      <td>68817.000000</td>\n      <td>68817.000000</td>\n      <td>68817.000000</td>\n      <td>68817.000000</td>\n      <td>68817.000000</td>\n      <td>68817.000000</td>\n      <td>68817.000000</td>\n      <td>68817.000000</td>\n      <td>68817.000000</td>\n      <td>68817.000000</td>\n      <td>68817.000000</td>\n      <td>68817.000000</td>\n      <td>68817.000000</td>\n      <td>68817.000000</td>\n      <td>68817.000000</td>\n      <td>68817.000000</td>\n      <td>68817.000000</td>\n      <td>68817.000000</td>\n      <td>68817.000000</td>\n      <td>68817.000000</td>\n      <td>68817.0</td>\n      <td>68817.0</td>\n      <td>68817.000000</td>\n      <td>68817.000000</td>\n      <td>68817.000000</td>\n      <td>68817.000000</td>\n      <td>68817.000000</td>\n      <td>68817.0</td>\n      <td>6.881700e+04</td>\n      <td>6.881700e+04</td>\n      <td>68817.000000</td>\n      <td>6.881700e+04</td>\n      <td>68817.000000</td>\n      <td>68817.000000</td>\n      <td>68817.000000</td>\n      <td>68817.000000</td>\n      <td>68817.000000</td>\n      <td>68817.000000</td>\n      <td>68817.000000</td>\n      <td>68817.000000</td>\n      <td>68817.000000</td>\n      <td>68817.000000</td>\n      <td>68817.0</td>\n      <td>68817.000000</td>\n      <td>68817.000000</td>\n      <td>68817.000000</td>\n      <td>68817.000000</td>\n      <td>68817.000000</td>\n      <td>68817.000000</td>\n      <td>68817.0</td>\n      <td>68817.0</td>\n    </tr>\n    <tr>\n      <th>mean</th>\n      <td>16677.594562</td>\n      <td>0.127718</td>\n      <td>480.652863</td>\n      <td>8.821371e+04</td>\n      <td>21.778153</td>\n      <td>0.217766</td>\n      <td>0.497697</td>\n      <td>12.587340</td>\n      <td>0.126030</td>\n      <td>17604.142828</td>\n      <td>24.666347</td>\n      <td>16018.845833</td>\n      <td>16015.919519</td>\n      <td>970.639473</td>\n      <td>970.431151</td>\n      <td>658.748750</td>\n      <td>311.855687</td>\n      <td>0.035072</td>\n      <td>0.0</td>\n      <td>0.0</td>\n      <td>517.202218</td>\n      <td>0.016188</td>\n      <td>1.0</td>\n      <td>0.0</td>\n      <td>188.664298</td>\n      <td>1.634976e+05</td>\n      <td>1.023047</td>\n      <td>3.290481</td>\n      <td>0.843730</td>\n      <td>1.909644</td>\n      <td>14.303152</td>\n      <td>4.324044e+04</td>\n      <td>69.21191</td>\n      <td>1.240042</td>\n      <td>2.622245</td>\n      <td>6297.491710</td>\n      <td>55.702472</td>\n      <td>42431.895360</td>\n      <td>1.382071</td>\n      <td>1.687795</td>\n      <td>2.189023</td>\n      <td>4.827572</td>\n      <td>14142.936193</td>\n      <td>16991.852667</td>\n      <td>48.330667</td>\n      <td>0.006830</td>\n      <td>2.347065</td>\n      <td>125.468605</td>\n      <td>175.136841</td>\n      <td>14.294215</td>\n      <td>7.179781</td>\n      <td>1.441882</td>\n      <td>24.714954</td>\n      <td>7.688028</td>\n      <td>0.472485</td>\n      <td>3.806123</td>\n      <td>5.648038</td>\n      <td>5.135156</td>\n      <td>7.414403</td>\n      <td>9.500153</td>\n      <td>8.630818</td>\n      <td>13.517663</td>\n      <td>5.653036</td>\n      <td>12.571995</td>\n      <td>0.0</td>\n      <td>0.0</td>\n      <td>0.052138</td>\n      <td>2.219423</td>\n      <td>95.057627</td>\n      <td>30.626217</td>\n      <td>0.125972</td>\n      <td>0.0</td>\n      <td>2.100332e+05</td>\n      <td>6.133843e+04</td>\n      <td>29734.128558</td>\n      <td>5.572240e+04</td>\n      <td>0.009285</td>\n      <td>0.526309</td>\n      <td>0.106747</td>\n      <td>0.357659</td>\n      <td>0.478007</td>\n      <td>0.373992</td>\n      <td>0.148001</td>\n      <td>0.371696</td>\n      <td>0.451066</td>\n      <td>0.177238</td>\n      <td>1.0</td>\n      <td>0.123879</td>\n      <td>0.876121</td>\n      <td>0.383161</td>\n      <td>0.616839</td>\n      <td>0.860340</td>\n      <td>0.139660</td>\n      <td>1.0</td>\n      <td>1.0</td>\n    </tr>\n    <tr>\n      <th>std</th>\n      <td>10277.348590</td>\n      <td>0.048130</td>\n      <td>288.062432</td>\n      <td>1.155800e+05</td>\n      <td>20.199244</td>\n      <td>0.718367</td>\n      <td>0.758122</td>\n      <td>6.022869</td>\n      <td>0.336797</td>\n      <td>21835.880400</td>\n      <td>12.318917</td>\n      <td>10002.695495</td>\n      <td>10004.985940</td>\n      <td>1229.563301</td>\n      <td>1229.569864</td>\n      <td>1126.237377</td>\n      <td>279.786954</td>\n      <td>1.086720</td>\n      <td>0.0</td>\n      <td>0.0</td>\n      <td>816.021053</td>\n      <td>0.134774</td>\n      <td>0.0</td>\n      <td>0.0</td>\n      <td>1808.457195</td>\n      <td>1.723699e+05</td>\n      <td>1.176782</td>\n      <td>2.965579</td>\n      <td>0.970543</td>\n      <td>1.544994</td>\n      <td>13.972619</td>\n      <td>4.956130e+04</td>\n      <td>22.33711</td>\n      <td>1.471745</td>\n      <td>2.502608</td>\n      <td>5702.281757</td>\n      <td>18.495480</td>\n      <td>37166.229316</td>\n      <td>1.543220</td>\n      <td>2.852664</td>\n      <td>2.396186</td>\n      <td>3.145377</td>\n      <td>15863.878993</td>\n      <td>20447.276820</td>\n      <td>28.106287</td>\n      <td>0.087327</td>\n      <td>301.312407</td>\n      <td>56.968853</td>\n      <td>99.149467</td>\n      <td>17.417118</td>\n      <td>6.303066</td>\n      <td>1.747777</td>\n      <td>32.130889</td>\n      <td>6.034861</td>\n      <td>1.410819</td>\n      <td>2.464504</td>\n      <td>3.470941</td>\n      <td>3.230651</td>\n      <td>4.581371</td>\n      <td>7.573846</td>\n      <td>5.056994</td>\n      <td>8.026158</td>\n      <td>3.472679</td>\n      <td>6.021318</td>\n      <td>0.0</td>\n      <td>0.0</td>\n      <td>0.390633</td>\n      <td>1.897432</td>\n      <td>8.326426</td>\n      <td>33.631463</td>\n      <td>0.336732</td>\n      <td>0.0</td>\n      <td>1.928088e+05</td>\n      <td>5.738798e+04</td>\n      <td>26795.394232</td>\n      <td>5.095845e+04</td>\n      <td>0.095914</td>\n      <td>0.499311</td>\n      <td>0.308793</td>\n      <td>0.479314</td>\n      <td>0.499520</td>\n      <td>0.483865</td>\n      <td>0.355104</td>\n      <td>0.483261</td>\n      <td>0.497603</td>\n      <td>0.381873</td>\n      <td>0.0</td>\n      <td>0.329446</td>\n      <td>0.329446</td>\n      <td>0.486161</td>\n      <td>0.486161</td>\n      <td>0.346637</td>\n      <td>0.346637</td>\n      <td>0.0</td>\n      <td>0.0</td>\n    </tr>\n    <tr>\n      <th>min</th>\n      <td>1000.000000</td>\n      <td>0.060000</td>\n      <td>30.890000</td>\n      <td>4.000000e+01</td>\n      <td>0.000000</td>\n      <td>0.000000</td>\n      <td>0.000000</td>\n      <td>2.000000</td>\n      <td>0.000000</td>\n      <td>0.000000</td>\n      <td>3.000000</td>\n      <td>0.000000</td>\n      <td>0.000000</td>\n      <td>0.000000</td>\n      <td>0.000000</td>\n      <td>0.000000</td>\n      <td>0.000000</td>\n      <td>0.000000</td>\n      <td>0.0</td>\n      <td>0.0</td>\n      <td>0.000000</td>\n      <td>0.000000</td>\n      <td>1.0</td>\n      <td>0.0</td>\n      <td>0.000000</td>\n      <td>2.350000e+02</td>\n      <td>0.000000</td>\n      <td>0.000000</td>\n      <td>0.000000</td>\n      <td>0.000000</td>\n      <td>0.000000</td>\n      <td>1.000000e+00</td>\n      <td>0.00000</td>\n      <td>0.000000</td>\n      <td>0.000000</td>\n      <td>0.000000</td>\n      <td>1.000000</td>\n      <td>200.000000</td>\n      <td>0.000000</td>\n      <td>0.000000</td>\n      <td>0.000000</td>\n      <td>0.000000</td>\n      <td>20.000000</td>\n      <td>0.000000</td>\n      <td>0.000000</td>\n      <td>0.000000</td>\n      <td>0.000000</td>\n      <td>0.000000</td>\n      <td>5.000000</td>\n      <td>0.000000</td>\n      <td>0.000000</td>\n      <td>0.000000</td>\n      <td>0.000000</td>\n      <td>0.000000</td>\n      <td>0.000000</td>\n      <td>0.000000</td>\n      <td>0.000000</td>\n      <td>0.000000</td>\n      <td>1.000000</td>\n      <td>1.000000</td>\n      <td>1.000000</td>\n      <td>2.000000</td>\n      <td>0.000000</td>\n      <td>2.000000</td>\n      <td>0.0</td>\n      <td>0.0</td>\n      <td>0.000000</td>\n      <td>0.000000</td>\n      <td>20.000000</td>\n      <td>0.000000</td>\n      <td>0.000000</td>\n      <td>0.0</td>\n      <td>3.600000e+03</td>\n      <td>2.350000e+02</td>\n      <td>100.000000</td>\n      <td>1.270000e+02</td>\n      <td>0.000000</td>\n      <td>0.000000</td>\n      <td>0.000000</td>\n      <td>0.000000</td>\n      <td>0.000000</td>\n      <td>0.000000</td>\n      <td>0.000000</td>\n      <td>0.000000</td>\n      <td>0.000000</td>\n      <td>0.000000</td>\n      <td>1.0</td>\n      <td>0.000000</td>\n      <td>0.000000</td>\n      <td>0.000000</td>\n      <td>0.000000</td>\n      <td>0.000000</td>\n      <td>0.000000</td>\n      <td>1.0</td>\n      <td>1.0</td>\n    </tr>\n    <tr>\n      <th>25%</th>\n      <td>9000.000000</td>\n      <td>0.088100</td>\n      <td>265.730000</td>\n      <td>5.000000e+04</td>\n      <td>13.890000</td>\n      <td>0.000000</td>\n      <td>0.000000</td>\n      <td>8.000000</td>\n      <td>0.000000</td>\n      <td>6293.000000</td>\n      <td>16.000000</td>\n      <td>8578.800000</td>\n      <td>8576.500000</td>\n      <td>403.760000</td>\n      <td>403.550000</td>\n      <td>250.370000</td>\n      <td>115.440000</td>\n      <td>0.000000</td>\n      <td>0.0</td>\n      <td>0.0</td>\n      <td>267.110000</td>\n      <td>0.000000</td>\n      <td>1.0</td>\n      <td>0.0</td>\n      <td>0.000000</td>\n      <td>3.570000e+04</td>\n      <td>0.000000</td>\n      <td>2.000000</td>\n      <td>0.000000</td>\n      <td>1.000000</td>\n      <td>6.000000</td>\n      <td>1.422300e+04</td>\n      <td>56.00000</td>\n      <td>0.000000</td>\n      <td>1.000000</td>\n      <td>2558.000000</td>\n      <td>43.000000</td>\n      <td>19200.000000</td>\n      <td>0.000000</td>\n      <td>0.000000</td>\n      <td>1.000000</td>\n      <td>3.000000</td>\n      <td>3505.000000</td>\n      <td>3644.000000</td>\n      <td>25.400000</td>\n      <td>0.000000</td>\n      <td>0.000000</td>\n      <td>87.000000</td>\n      <td>101.000000</td>\n      <td>4.000000</td>\n      <td>3.000000</td>\n      <td>0.000000</td>\n      <td>6.000000</td>\n      <td>3.000000</td>\n      <td>0.000000</td>\n      <td>2.000000</td>\n      <td>3.000000</td>\n      <td>3.000000</td>\n      <td>4.000000</td>\n      <td>4.000000</td>\n      <td>5.000000</td>\n      <td>8.000000</td>\n      <td>3.000000</td>\n      <td>8.000000</td>\n      <td>0.0</td>\n      <td>0.0</td>\n      <td>0.000000</td>\n      <td>1.000000</td>\n      <td>93.000000</td>\n      <td>0.000000</td>\n      <td>0.000000</td>\n      <td>0.0</td>\n      <td>6.697700e+04</td>\n      <td>2.650300e+04</td>\n      <td>11600.000000</td>\n      <td>2.288000e+04</td>\n      <td>0.000000</td>\n      <td>0.000000</td>\n      <td>0.000000</td>\n      <td>0.000000</td>\n      <td>0.000000</td>\n      <td>0.000000</td>\n      <td>0.000000</td>\n      <td>0.000000</td>\n      <td>0.000000</td>\n      <td>0.000000</td>\n      <td>1.0</td>\n      <td>0.000000</td>\n      <td>1.000000</td>\n      <td>0.000000</td>\n      <td>0.000000</td>\n      <td>1.000000</td>\n      <td>0.000000</td>\n      <td>1.0</td>\n      <td>1.0</td>\n    </tr>\n    <tr>\n      <th>50%</th>\n      <td>15000.000000</td>\n      <td>0.118000</td>\n      <td>404.560000</td>\n      <td>7.300000e+04</td>\n      <td>19.760000</td>\n      <td>0.000000</td>\n      <td>0.000000</td>\n      <td>11.000000</td>\n      <td>0.000000</td>\n      <td>12068.000000</td>\n      <td>23.000000</td>\n      <td>14067.750000</td>\n      <td>14061.030000</td>\n      <td>710.790000</td>\n      <td>710.790000</td>\n      <td>449.890000</td>\n      <td>225.250000</td>\n      <td>0.000000</td>\n      <td>0.0</td>\n      <td>0.0</td>\n      <td>408.520000</td>\n      <td>0.000000</td>\n      <td>1.0</td>\n      <td>0.0</td>\n      <td>0.000000</td>\n      <td>9.960600e+04</td>\n      <td>1.000000</td>\n      <td>2.000000</td>\n      <td>1.000000</td>\n      <td>2.000000</td>\n      <td>11.000000</td>\n      <td>2.862600e+04</td>\n      <td>71.00000</td>\n      <td>1.000000</td>\n      <td>2.000000</td>\n      <td>4874.000000</td>\n      <td>56.000000</td>\n      <td>32800.000000</td>\n      <td>1.000000</td>\n      <td>1.000000</td>\n      <td>2.000000</td>\n      <td>4.000000</td>\n      <td>8261.000000</td>\n      <td>10239.000000</td>\n      <td>46.400000</td>\n      <td>0.000000</td>\n      <td>0.000000</td>\n      <td>132.000000</td>\n      <td>157.000000</td>\n      <td>9.000000</td>\n      <td>5.000000</td>\n      <td>1.000000</td>\n      <td>15.000000</td>\n      <td>6.000000</td>\n      <td>0.000000</td>\n      <td>3.000000</td>\n      <td>5.000000</td>\n      <td>4.000000</td>\n      <td>6.000000</td>\n      <td>7.000000</td>\n      <td>8.000000</td>\n      <td>12.000000</td>\n      <td>5.000000</td>\n      <td>11.000000</td>\n      <td>0.0</td>\n      <td>0.0</td>\n      <td>0.000000</td>\n      <td>2.000000</td>\n      <td>100.000000</td>\n      <td>20.000000</td>\n      <td>0.000000</td>\n      <td>0.0</td>\n      <td>1.467100e+05</td>\n      <td>4.535700e+04</td>\n      <td>22100.000000</td>\n      <td>4.200000e+04</td>\n      <td>0.000000</td>\n      <td>1.000000</td>\n      <td>0.000000</td>\n      <td>0.000000</td>\n      <td>0.000000</td>\n      <td>0.000000</td>\n      <td>0.000000</td>\n      <td>0.000000</td>\n      <td>0.000000</td>\n      <td>0.000000</td>\n      <td>1.0</td>\n      <td>0.000000</td>\n      <td>1.000000</td>\n      <td>0.000000</td>\n      <td>1.000000</td>\n      <td>1.000000</td>\n      <td>0.000000</td>\n      <td>1.0</td>\n      <td>1.0</td>\n    </tr>\n    <tr>\n      <th>75%</th>\n      <td>24000.000000</td>\n      <td>0.155700</td>\n      <td>648.100000</td>\n      <td>1.040000e+05</td>\n      <td>26.660000</td>\n      <td>0.000000</td>\n      <td>1.000000</td>\n      <td>16.000000</td>\n      <td>0.000000</td>\n      <td>21735.000000</td>\n      <td>31.000000</td>\n      <td>22860.700000</td>\n      <td>22860.490000</td>\n      <td>1214.600000</td>\n      <td>1214.590000</td>\n      <td>762.170000</td>\n      <td>415.710000</td>\n      <td>0.000000</td>\n      <td>0.0</td>\n      <td>0.0</td>\n      <td>652.580000</td>\n      <td>0.000000</td>\n      <td>1.0</td>\n      <td>0.0</td>\n      <td>0.000000</td>\n      <td>2.472060e+05</td>\n      <td>2.000000</td>\n      <td>4.000000</td>\n      <td>1.000000</td>\n      <td>3.000000</td>\n      <td>18.000000</td>\n      <td>5.406500e+04</td>\n      <td>85.00000</td>\n      <td>2.000000</td>\n      <td>4.000000</td>\n      <td>8321.000000</td>\n      <td>68.000000</td>\n      <td>54100.000000</td>\n      <td>2.000000</td>\n      <td>2.000000</td>\n      <td>3.000000</td>\n      <td>6.000000</td>\n      <td>19859.000000</td>\n      <td>22806.000000</td>\n      <td>71.100000</td>\n      <td>0.000000</td>\n      <td>0.000000</td>\n      <td>159.000000</td>\n      <td>226.000000</td>\n      <td>19.000000</td>\n      <td>10.000000</td>\n      <td>2.000000</td>\n      <td>31.000000</td>\n      <td>12.000000</td>\n      <td>0.000000</td>\n      <td>5.000000</td>\n      <td>7.000000</td>\n      <td>7.000000</td>\n      <td>10.000000</td>\n      <td>12.000000</td>\n      <td>11.000000</td>\n      <td>17.000000</td>\n      <td>7.000000</td>\n      <td>16.000000</td>\n      <td>0.0</td>\n      <td>0.0</td>\n      <td>0.000000</td>\n      <td>3.000000</td>\n      <td>100.000000</td>\n      <td>50.000000</td>\n      <td>0.000000</td>\n      <td>0.0</td>\n      <td>3.036400e+05</td>\n      <td>7.657000e+04</td>\n      <td>39300.000000</td>\n      <td>7.249900e+04</td>\n      <td>0.000000</td>\n      <td>1.000000</td>\n      <td>0.000000</td>\n      <td>1.000000</td>\n      <td>1.000000</td>\n      <td>1.000000</td>\n      <td>0.000000</td>\n      <td>1.000000</td>\n      <td>1.000000</td>\n      <td>0.000000</td>\n      <td>1.0</td>\n      <td>0.000000</td>\n      <td>1.000000</td>\n      <td>1.000000</td>\n      <td>1.000000</td>\n      <td>1.000000</td>\n      <td>0.000000</td>\n      <td>1.0</td>\n      <td>1.0</td>\n    </tr>\n    <tr>\n      <th>max</th>\n      <td>40000.000000</td>\n      <td>0.308400</td>\n      <td>1676.230000</td>\n      <td>8.797500e+06</td>\n      <td>999.000000</td>\n      <td>18.000000</td>\n      <td>5.000000</td>\n      <td>72.000000</td>\n      <td>4.000000</td>\n      <td>587191.000000</td>\n      <td>164.000000</td>\n      <td>40000.000000</td>\n      <td>40000.000000</td>\n      <td>41418.981165</td>\n      <td>41418.980000</td>\n      <td>40000.000000</td>\n      <td>2735.400000</td>\n      <td>75.240000</td>\n      <td>0.0</td>\n      <td>0.0</td>\n      <td>40500.340000</td>\n      <td>4.000000</td>\n      <td>1.0</td>\n      <td>0.0</td>\n      <td>159199.000000</td>\n      <td>3.140082e+06</td>\n      <td>14.000000</td>\n      <td>63.000000</td>\n      <td>6.000000</td>\n      <td>22.000000</td>\n      <td>389.000000</td>\n      <td>1.260281e+06</td>\n      <td>313.00000</td>\n      <td>18.000000</td>\n      <td>44.000000</td>\n      <td>207484.000000</td>\n      <td>216.000000</td>\n      <td>759500.000000</td>\n      <td>29.000000</td>\n      <td>70.000000</td>\n      <td>42.000000</td>\n      <td>45.000000</td>\n      <td>448583.000000</td>\n      <td>506507.000000</td>\n      <td>169.500000</td>\n      <td>2.000000</td>\n      <td>65000.000000</td>\n      <td>606.000000</td>\n      <td>902.000000</td>\n      <td>564.000000</td>\n      <td>170.000000</td>\n      <td>20.000000</td>\n      <td>564.000000</td>\n      <td>24.000000</td>\n      <td>34.000000</td>\n      <td>26.000000</td>\n      <td>43.000000</td>\n      <td>43.000000</td>\n      <td>60.000000</td>\n      <td>149.000000</td>\n      <td>70.000000</td>\n      <td>98.000000</td>\n      <td>43.000000</td>\n      <td>72.000000</td>\n      <td>0.0</td>\n      <td>0.0</td>\n      <td>18.000000</td>\n      <td>19.000000</td>\n      <td>100.000000</td>\n      <td>100.000000</td>\n      <td>4.000000</td>\n      <td>0.0</td>\n      <td>3.292782e+06</td>\n      <td>1.295455e+06</td>\n      <td>509400.000000</td>\n      <td>1.426964e+06</td>\n      <td>1.000000</td>\n      <td>1.000000</td>\n      <td>1.000000</td>\n      <td>1.000000</td>\n      <td>1.000000</td>\n      <td>1.000000</td>\n      <td>1.000000</td>\n      <td>1.000000</td>\n      <td>1.000000</td>\n      <td>1.000000</td>\n      <td>1.0</td>\n      <td>1.000000</td>\n      <td>1.000000</td>\n      <td>1.000000</td>\n      <td>1.000000</td>\n      <td>1.000000</td>\n      <td>1.000000</td>\n      <td>1.0</td>\n      <td>1.0</td>\n    </tr>\n  </tbody>\n</table>\n</div>"
     },
     "metadata": {},
     "execution_count": 129
    }
   ],
   "source": [
    "X.describe()"
   ]
  },
  {
   "cell_type": "code",
   "execution_count": 27,
   "metadata": {},
   "outputs": [
    {
     "output_type": "execute_result",
     "data": {
      "text/plain": [
       "low_risk     68470\n",
       "high_risk      347\n",
       "Name: loan_status, dtype: int64"
      ]
     },
     "metadata": {},
     "execution_count": 27
    }
   ],
   "source": [
    "# Check the balance of our target values\n",
    "y.value_counts()"
   ]
  },
  {
   "cell_type": "code",
   "execution_count": 28,
   "metadata": {},
   "outputs": [],
   "source": [
    "# Split dataset. Results are stratified to to create a balanced number of examples for each class label\n",
    "from sklearn.model_selection import train_test_split\n",
    "X_train, X_test, y_train, y_test = train_test_split(X, y, random_state=1, stratify=y)\n"
   ]
  },
  {
   "cell_type": "markdown",
   "metadata": {},
   "source": [
    "# Ensemble Learners\n",
    "\n",
    "In this section, you will compare two ensemble algorithms to determine which algorithm results in the best performance. You will train a Balanced Random Forest Classifier and an Easy Ensemble AdaBoost classifier . For each algorithm, be sure to complete the folliowing steps:\n",
    "\n",
    "1. Train the model using the training data. \n",
    "2. Calculate the balanced accuracy score from sklearn.metrics.\n",
    "3. Print the confusion matrix from sklearn.metrics.\n",
    "4. Generate a classication report using the `imbalanced_classification_report` from imbalanced-learn.\n",
    "5. For the Balanced Random Forest Classifier onely, print the feature importance sorted in descending order (most important feature to least important) along with the feature score\n",
    "\n",
    "Note: Use a random state of 1 for each algorithm to ensure consistency between tests"
   ]
  },
  {
   "cell_type": "markdown",
   "metadata": {},
   "source": [
    "### Balanced Random Forest Classifier"
   ]
  },
  {
   "cell_type": "code",
   "execution_count": 29,
   "metadata": {},
   "outputs": [
    {
     "output_type": "execute_result",
     "data": {
      "text/plain": [
       "BalancedRandomForestClassifier(random_state=1)"
      ]
     },
     "metadata": {},
     "execution_count": 29
    }
   ],
   "source": [
    "# Resample the training data with the BalancedRandomForestClassifier\n",
    "from imblearn.ensemble import BalancedRandomForestClassifier\n",
    "brf_model = BalancedRandomForestClassifier(n_estimators=100 ,\n",
    "                criterion='gini', random_state=1)\n",
    "brf_model.fit(X_train, y_train)"
   ]
  },
  {
   "cell_type": "code",
   "execution_count": 30,
   "metadata": {},
   "outputs": [
    {
     "output_type": "execute_result",
     "data": {
      "text/plain": [
       "0.7877672625306695"
      ]
     },
     "metadata": {},
     "execution_count": 30
    }
   ],
   "source": [
    "# Calculated the balanced accuracy score\n",
    "predictions = brf_model.predict(X_test)\n",
    "balanced_accuracy_score(y_test, predictions)"
   ]
  },
  {
   "cell_type": "code",
   "execution_count": 31,
   "metadata": {},
   "outputs": [
    {
     "output_type": "execute_result",
     "data": {
      "text/plain": [
       "array([[   58,    29],\n",
       "       [ 1560, 15558]], dtype=int64)"
      ]
     },
     "metadata": {},
     "execution_count": 31
    }
   ],
   "source": [
    "# Display the confusion matrix\n",
    "confusion_matrix(y_test, predictions)"
   ]
  },
  {
   "cell_type": "code",
   "execution_count": 32,
   "metadata": {},
   "outputs": [
    {
     "output_type": "stream",
     "name": "stdout",
     "text": [
      "                   pre       rec       spe        f1       geo       iba       sup\n\n  high_risk       0.04      0.67      0.91      0.07      0.78      0.59        87\n   low_risk       1.00      0.91      0.67      0.95      0.78      0.62     17118\n\navg / total       0.99      0.91      0.67      0.95      0.78      0.62     17205\n\n"
     ]
    }
   ],
   "source": [
    "# Print the imbalanced classification report for Balanced Random Forest CLassifier\n",
    "print(classification_report_imbalanced(y_test, predictions))"
   ]
  },
  {
   "cell_type": "code",
   "execution_count": 33,
   "metadata": {},
   "outputs": [
    {
     "output_type": "execute_result",
     "data": {
      "text/plain": [
       "array([0.00982912, 0.02458052, 0.01698703, 0.01661322, 0.01862588,\n",
       "       0.00452388, 0.00475626, 0.00776032, 0.00141858, 0.01492449,\n",
       "       0.01048004, 0.02039888, 0.01533707, 0.05811196, 0.06073336,\n",
       "       0.07376668, 0.06390324, 0.00639138, 0.        , 0.        ,\n",
       "       0.04951778, 0.00069491, 0.        , 0.        , 0.00378968,\n",
       "       0.01423847, 0.00600478, 0.00666004, 0.00524884, 0.0068764 ,\n",
       "       0.01043385, 0.01351439, 0.013139  , 0.00541331, 0.00659981,\n",
       "       0.01837888, 0.0130093 , 0.01119472, 0.00740497, 0.00794881,\n",
       "       0.00970921, 0.00742067, 0.0150665 , 0.01334386, 0.01623198,\n",
       "       0.        , 0.        , 0.01406737, 0.01458321, 0.01017148,\n",
       "       0.00888343, 0.00639377, 0.01072809, 0.01582192, 0.00390292,\n",
       "       0.00828741, 0.00781388, 0.00678543, 0.00939407, 0.00733951,\n",
       "       0.00939096, 0.01192775, 0.00990082, 0.00784173, 0.        ,\n",
       "       0.        , 0.00110461, 0.00606583, 0.01048577, 0.0079446 ,\n",
       "       0.00152091, 0.        , 0.01310601, 0.01428231, 0.01538569,\n",
       "       0.01210422, 0.00013273, 0.00200601, 0.00208536, 0.00169953,\n",
       "       0.00185446, 0.00198407, 0.00187892, 0.00487121, 0.01748003,\n",
       "       0.01492646, 0.        , 0.00138795, 0.00080503, 0.00592034,\n",
       "       0.00480282, 0.00123906, 0.0007103 , 0.        , 0.        ])"
      ]
     },
     "metadata": {},
     "execution_count": 33
    }
   ],
   "source": [
    "importance"
   ]
  },
  {
   "cell_type": "code",
   "execution_count": 134,
   "metadata": {},
   "outputs": [
    {
     "output_type": "stream",
     "name": "stdout",
     "text": [
      "Wall time: 38.4 ms\n"
     ]
    },
    {
     "output_type": "execute_result",
     "data": {
      "text/plain": [
       "                       Importance\n",
       "Credit Feature                   \n",
       "total_rec_prncp          0.073767\n",
       "total_rec_int            0.063903\n",
       "total_pymnt_inv          0.060733\n",
       "total_pymnt              0.058112\n",
       "last_pymnt_amnt          0.049518\n",
       "int_rate                 0.024581\n",
       "out_prncp                0.020399\n",
       "dti                      0.018626\n",
       "max_bal_bc               0.018379\n",
       "issue_d_Jan-2019         0.017480\n",
       "installment              0.016987\n",
       "annual_inc               0.016613\n",
       "bc_util                  0.016232\n",
       "mths_since_recent_inq    0.015822\n",
       "total_bc_limit           0.015386\n",
       "out_prncp_inv            0.015337\n",
       "avg_cur_bal              0.015066\n",
       "issue_d_Mar-2019         0.014926\n",
       "revol_bal                0.014924\n",
       "mo_sin_old_rev_tl_op     0.014583"
      ],
      "text/html": "<div>\n<style scoped>\n    .dataframe tbody tr th:only-of-type {\n        vertical-align: middle;\n    }\n\n    .dataframe tbody tr th {\n        vertical-align: top;\n    }\n\n    .dataframe thead th {\n        text-align: right;\n    }\n</style>\n<table border=\"1\" class=\"dataframe\">\n  <thead>\n    <tr style=\"text-align: right;\">\n      <th></th>\n      <th>Importance</th>\n    </tr>\n    <tr>\n      <th>Credit Feature</th>\n      <th></th>\n    </tr>\n  </thead>\n  <tbody>\n    <tr>\n      <th>total_rec_prncp</th>\n      <td>0.073767</td>\n    </tr>\n    <tr>\n      <th>total_rec_int</th>\n      <td>0.063903</td>\n    </tr>\n    <tr>\n      <th>total_pymnt_inv</th>\n      <td>0.060733</td>\n    </tr>\n    <tr>\n      <th>total_pymnt</th>\n      <td>0.058112</td>\n    </tr>\n    <tr>\n      <th>last_pymnt_amnt</th>\n      <td>0.049518</td>\n    </tr>\n    <tr>\n      <th>int_rate</th>\n      <td>0.024581</td>\n    </tr>\n    <tr>\n      <th>out_prncp</th>\n      <td>0.020399</td>\n    </tr>\n    <tr>\n      <th>dti</th>\n      <td>0.018626</td>\n    </tr>\n    <tr>\n      <th>max_bal_bc</th>\n      <td>0.018379</td>\n    </tr>\n    <tr>\n      <th>issue_d_Jan-2019</th>\n      <td>0.017480</td>\n    </tr>\n    <tr>\n      <th>installment</th>\n      <td>0.016987</td>\n    </tr>\n    <tr>\n      <th>annual_inc</th>\n      <td>0.016613</td>\n    </tr>\n    <tr>\n      <th>bc_util</th>\n      <td>0.016232</td>\n    </tr>\n    <tr>\n      <th>mths_since_recent_inq</th>\n      <td>0.015822</td>\n    </tr>\n    <tr>\n      <th>total_bc_limit</th>\n      <td>0.015386</td>\n    </tr>\n    <tr>\n      <th>out_prncp_inv</th>\n      <td>0.015337</td>\n    </tr>\n    <tr>\n      <th>avg_cur_bal</th>\n      <td>0.015066</td>\n    </tr>\n    <tr>\n      <th>issue_d_Mar-2019</th>\n      <td>0.014926</td>\n    </tr>\n    <tr>\n      <th>revol_bal</th>\n      <td>0.014924</td>\n    </tr>\n    <tr>\n      <th>mo_sin_old_rev_tl_op</th>\n      <td>0.014583</td>\n    </tr>\n  </tbody>\n</table>\n</div>"
     },
     "metadata": {},
     "execution_count": 134
    }
   ],
   "source": [
    "%%time\n",
    "# List the features sorted in descending order by feature importance\n",
    "importances = pd.DataFrame(brf_model.feature_importances_, index = X_train.columns, columns=['Importance']).sort_values('Importance', ascending=False)\n",
    "importance = importances.rename_axis('Credit Feature')\n",
    "importance.head(20)"
   ]
  },
  {
   "cell_type": "code",
   "execution_count": 97,
   "metadata": {},
   "outputs": [
    {
     "output_type": "stream",
     "name": "stdout",
     "text": [
      "Feature: 0, Score: 0.07377\nFeature: 1, Score: 0.06390\nFeature: 2, Score: 0.06073\nFeature: 3, Score: 0.05811\nFeature: 4, Score: 0.04952\nFeature: 5, Score: 0.02458\nFeature: 6, Score: 0.02040\nFeature: 7, Score: 0.01863\nFeature: 8, Score: 0.01838\nFeature: 9, Score: 0.01748\nFeature: 10, Score: 0.01699\nFeature: 11, Score: 0.01661\nFeature: 12, Score: 0.01623\nFeature: 13, Score: 0.01582\nFeature: 14, Score: 0.01539\nFeature: 15, Score: 0.01534\nFeature: 16, Score: 0.01507\nFeature: 17, Score: 0.01493\nFeature: 18, Score: 0.01492\nFeature: 19, Score: 0.01458\nFeature: 20, Score: 0.01428\nFeature: 21, Score: 0.01424\nFeature: 22, Score: 0.01407\nFeature: 23, Score: 0.01351\nFeature: 24, Score: 0.01334\nFeature: 25, Score: 0.01314\nFeature: 26, Score: 0.01311\nFeature: 27, Score: 0.01301\nFeature: 28, Score: 0.01210\nFeature: 29, Score: 0.01193\nFeature: 30, Score: 0.01119\nFeature: 31, Score: 0.01073\nFeature: 32, Score: 0.01049\nFeature: 33, Score: 0.01048\nFeature: 34, Score: 0.01043\nFeature: 35, Score: 0.01017\nFeature: 36, Score: 0.00990\nFeature: 37, Score: 0.00983\nFeature: 38, Score: 0.00971\nFeature: 39, Score: 0.00939\nFeature: 40, Score: 0.00939\nFeature: 41, Score: 0.00888\nFeature: 42, Score: 0.00829\nFeature: 43, Score: 0.00795\nFeature: 44, Score: 0.00794\nFeature: 45, Score: 0.00784\nFeature: 46, Score: 0.00781\nFeature: 47, Score: 0.00776\nFeature: 48, Score: 0.00742\nFeature: 49, Score: 0.00740\nFeature: 50, Score: 0.00734\nFeature: 51, Score: 0.00688\nFeature: 52, Score: 0.00679\nFeature: 53, Score: 0.00666\nFeature: 54, Score: 0.00660\nFeature: 55, Score: 0.00639\nFeature: 56, Score: 0.00639\nFeature: 57, Score: 0.00607\nFeature: 58, Score: 0.00600\nFeature: 59, Score: 0.00592\nFeature: 60, Score: 0.00541\nFeature: 61, Score: 0.00525\nFeature: 62, Score: 0.00487\nFeature: 63, Score: 0.00480\nFeature: 64, Score: 0.00476\nFeature: 65, Score: 0.00452\nFeature: 66, Score: 0.00390\nFeature: 67, Score: 0.00379\nFeature: 68, Score: 0.00209\nFeature: 69, Score: 0.00201\nFeature: 70, Score: 0.00198\nFeature: 71, Score: 0.00188\nFeature: 72, Score: 0.00185\nFeature: 73, Score: 0.00170\nFeature: 74, Score: 0.00152\nFeature: 75, Score: 0.00142\nFeature: 76, Score: 0.00139\nFeature: 77, Score: 0.00124\nFeature: 78, Score: 0.00110\nFeature: 79, Score: 0.00081\nFeature: 80, Score: 0.00071\nFeature: 81, Score: 0.00069\nFeature: 82, Score: 0.00013\nFeature: 83, Score: 0.00000\nFeature: 84, Score: 0.00000\nFeature: 85, Score: 0.00000\nFeature: 86, Score: 0.00000\nFeature: 87, Score: 0.00000\nFeature: 88, Score: 0.00000\nFeature: 89, Score: 0.00000\nFeature: 90, Score: 0.00000\nFeature: 91, Score: 0.00000\nFeature: 92, Score: 0.00000\nFeature: 93, Score: 0.00000\nFeature: 94, Score: 0.00000\n[0.00982912 0.02458052 0.01698703 0.01661322 0.01862588 0.00452388\n 0.00475626 0.00776032 0.00141858 0.01492449 0.01048004 0.02039888\n 0.01533707 0.05811196 0.06073336 0.07376668 0.06390324 0.00639138\n 0.         0.         0.04951778 0.00069491 0.         0.\n 0.00378968 0.01423847 0.00600478 0.00666004 0.00524884 0.0068764\n 0.01043385 0.01351439 0.013139   0.00541331 0.00659981 0.01837888\n 0.0130093  0.01119472 0.00740497 0.00794881 0.00970921 0.00742067\n 0.0150665  0.01334386 0.01623198 0.         0.         0.01406737\n 0.01458321 0.01017148 0.00888343 0.00639377 0.01072809 0.01582192\n 0.00390292 0.00828741 0.00781388 0.00678543 0.00939407 0.00733951\n 0.00939096 0.01192775 0.00990082 0.00784173 0.         0.\n 0.00110461 0.00606583 0.01048577 0.0079446  0.00152091 0.\n 0.01310601 0.01428231 0.01538569 0.01210422 0.00013273 0.00200601\n 0.00208536 0.00169953 0.00185446 0.00198407 0.00187892 0.00487121\n 0.01748003 0.01492646 0.         0.00138795 0.00080503 0.00592034\n 0.00480282 0.00123906 0.0007103  0.         0.        ]\nWall time: 18.9 ms\n"
     ]
    }
   ],
   "source": [
    "# Better code above\n",
    "\n",
    "# %%time\n",
    "# from operator import itemgetter, attrgetter\n",
    "# List the features sorted in descending order by feature importance\n",
    "# importance = brf_model.feature_importances_\n",
    "\n",
    "# tuple(importance)\n",
    "\n",
    "# for i,v in enumerate(sorted(importance, reverse=True)):\n",
    "#     print('Feature: %0d, Score: %.5f' % (i,v))\n",
    "# std = np.std([brf_model.feature_importances_ for tree in brf_model.estimators_], axis=0)\n",
    "# importance_descending = importance.sorted(axis=1, ascending=True, inplace=True)\n",
    "# print(importance)"
   ]
  },
  {
   "cell_type": "code",
   "execution_count": 35,
   "metadata": {},
   "outputs": [
    {
     "output_type": "display_data",
     "data": {
      "text/plain": "<Figure size 432x288 with 1 Axes>",
      "image/svg+xml": "<?xml version=\"1.0\" encoding=\"utf-8\" standalone=\"no\"?>\r\n<!DOCTYPE svg PUBLIC \"-//W3C//DTD SVG 1.1//EN\"\r\n  \"http://www.w3.org/Graphics/SVG/1.1/DTD/svg11.dtd\">\r\n<!-- Created with matplotlib (https://matplotlib.org/) -->\r\n<svg height=\"248.518125pt\" version=\"1.1\" viewBox=\"0 0 378.465625 248.518125\" width=\"378.465625pt\" xmlns=\"http://www.w3.org/2000/svg\" xmlns:xlink=\"http://www.w3.org/1999/xlink\">\r\n <metadata>\r\n  <rdf:RDF xmlns:cc=\"http://creativecommons.org/ns#\" xmlns:dc=\"http://purl.org/dc/elements/1.1/\" xmlns:rdf=\"http://www.w3.org/1999/02/22-rdf-syntax-ns#\">\r\n   <cc:Work>\r\n    <dc:type rdf:resource=\"http://purl.org/dc/dcmitype/StillImage\"/>\r\n    <dc:date>2021-06-27T14:12:48.132660</dc:date>\r\n    <dc:format>image/svg+xml</dc:format>\r\n    <dc:creator>\r\n     <cc:Agent>\r\n      <dc:title>Matplotlib v3.3.4, https://matplotlib.org/</dc:title>\r\n     </cc:Agent>\r\n    </dc:creator>\r\n   </cc:Work>\r\n  </rdf:RDF>\r\n </metadata>\r\n <defs>\r\n  <style type=\"text/css\">*{stroke-linecap:butt;stroke-linejoin:round;}</style>\r\n </defs>\r\n <g id=\"figure_1\">\r\n  <g id=\"patch_1\">\r\n   <path d=\"M 0 248.518125 \r\nL 378.465625 248.518125 \r\nL 378.465625 0 \r\nL 0 0 \r\nz\r\n\"/>\r\n  </g>\r\n  <g id=\"axes_1\">\r\n   <g id=\"patch_2\">\r\n    <path d=\"M 36.465625 224.64 \r\nL 371.265625 224.64 \r\nL 371.265625 7.2 \r\nL 36.465625 7.2 \r\nz\r\n\"/>\r\n   </g>\r\n   <g id=\"patch_3\">\r\n    <path clip-path=\"url(#p5994ae14d1)\" d=\"M 51.683807 224.64 \r\nL 54.252276 224.64 \r\nL 54.252276 197.046641 \r\nL 51.683807 197.046641 \r\nz\r\n\" style=\"fill:#8dd3c7;\"/>\r\n   </g>\r\n   <g id=\"patch_4\">\r\n    <path clip-path=\"url(#p5994ae14d1)\" d=\"M 54.894394 224.64 \r\nL 57.462863 224.64 \r\nL 57.462863 155.634937 \r\nL 54.894394 155.634937 \r\nz\r\n\" style=\"fill:#8dd3c7;\"/>\r\n   </g>\r\n   <g id=\"patch_5\">\r\n    <path clip-path=\"url(#p5994ae14d1)\" d=\"M 58.104981 224.64 \r\nL 60.67345 224.64 \r\nL 60.67345 176.952189 \r\nL 58.104981 176.952189 \r\nz\r\n\" style=\"fill:#8dd3c7;\"/>\r\n   </g>\r\n   <g id=\"patch_6\">\r\n    <path clip-path=\"url(#p5994ae14d1)\" d=\"M 61.315567 224.64 \r\nL 63.884037 224.64 \r\nL 63.884037 178.0016 \r\nL 61.315567 178.0016 \r\nz\r\n\" style=\"fill:#8dd3c7;\"/>\r\n   </g>\r\n   <g id=\"patch_7\">\r\n    <path clip-path=\"url(#p5994ae14d1)\" d=\"M 64.526154 224.64 \r\nL 67.094624 224.64 \r\nL 67.094624 172.351425 \r\nL 64.526154 172.351425 \r\nz\r\n\" style=\"fill:#8dd3c7;\"/>\r\n   </g>\r\n   <g id=\"patch_8\">\r\n    <path clip-path=\"url(#p5994ae14d1)\" d=\"M 67.736741 224.64 \r\nL 70.305211 224.64 \r\nL 70.305211 211.94007 \r\nL 67.736741 211.94007 \r\nz\r\n\" style=\"fill:#8dd3c7;\"/>\r\n   </g>\r\n   <g id=\"patch_9\">\r\n    <path clip-path=\"url(#p5994ae14d1)\" d=\"M 70.947328 224.64 \r\nL 73.515798 224.64 \r\nL 73.515798 211.287721 \r\nL 70.947328 211.287721 \r\nz\r\n\" style=\"fill:#8dd3c7;\"/>\r\n   </g>\r\n   <g id=\"patch_10\">\r\n    <path clip-path=\"url(#p5994ae14d1)\" d=\"M 74.157915 224.64 \r\nL 76.726384 224.64 \r\nL 76.726384 202.854389 \r\nL 74.157915 202.854389 \r\nz\r\n\" style=\"fill:#8dd3c7;\"/>\r\n   </g>\r\n   <g id=\"patch_11\">\r\n    <path clip-path=\"url(#p5994ae14d1)\" d=\"M 77.368502 224.64 \r\nL 79.936971 224.64 \r\nL 79.936971 220.657623 \r\nL 77.368502 220.657623 \r\nz\r\n\" style=\"fill:#8dd3c7;\"/>\r\n   </g>\r\n   <g id=\"patch_12\">\r\n    <path clip-path=\"url(#p5994ae14d1)\" d=\"M 80.579089 224.64 \r\nL 83.147558 224.64 \r\nL 83.147558 182.742375 \r\nL 80.579089 182.742375 \r\nz\r\n\" style=\"fill:#8dd3c7;\"/>\r\n   </g>\r\n   <g id=\"patch_13\">\r\n    <path clip-path=\"url(#p5994ae14d1)\" d=\"M 83.789676 224.64 \r\nL 86.358145 224.64 \r\nL 86.358145 195.21931 \r\nL 83.789676 195.21931 \r\nz\r\n\" style=\"fill:#8dd3c7;\"/>\r\n   </g>\r\n   <g id=\"patch_14\">\r\n    <path clip-path=\"url(#p5994ae14d1)\" d=\"M 87.000263 224.64 \r\nL 89.568732 224.64 \r\nL 89.568732 167.37408 \r\nL 87.000263 167.37408 \r\nz\r\n\" style=\"fill:#8dd3c7;\"/>\r\n   </g>\r\n   <g id=\"patch_15\">\r\n    <path clip-path=\"url(#p5994ae14d1)\" d=\"M 90.210849 224.64 \r\nL 92.779319 224.64 \r\nL 92.779319 181.584134 \r\nL 90.210849 181.584134 \r\nz\r\n\" style=\"fill:#8dd3c7;\"/>\r\n   </g>\r\n   <g id=\"patch_16\">\r\n    <path clip-path=\"url(#p5994ae14d1)\" d=\"M 93.421436 224.64 \r\nL 95.989906 224.64 \r\nL 95.989906 61.50189 \r\nL 93.421436 61.50189 \r\nz\r\n\" style=\"fill:#8dd3c7;\"/>\r\n   </g>\r\n   <g id=\"patch_17\">\r\n    <path clip-path=\"url(#p5994ae14d1)\" d=\"M 96.632023 224.64 \r\nL 99.200493 224.64 \r\nL 99.200493 54.142805 \r\nL 96.632023 54.142805 \r\nz\r\n\" style=\"fill:#8dd3c7;\"/>\r\n   </g>\r\n   <g id=\"patch_18\">\r\n    <path clip-path=\"url(#p5994ae14d1)\" d=\"M 99.84261 224.64 \r\nL 102.41108 224.64 \r\nL 102.41108 17.554286 \r\nL 99.84261 17.554286 \r\nz\r\n\" style=\"fill:#8dd3c7;\"/>\r\n   </g>\r\n   <g id=\"patch_19\">\r\n    <path clip-path=\"url(#p5994ae14d1)\" d=\"M 103.053197 224.64 \r\nL 105.621666 224.64 \r\nL 105.621666 45.243967 \r\nL 103.053197 45.243967 \r\nz\r\n\" style=\"fill:#8dd3c7;\"/>\r\n   </g>\r\n   <g id=\"patch_20\">\r\n    <path clip-path=\"url(#p5994ae14d1)\" d=\"M 106.263784 224.64 \r\nL 108.832253 224.64 \r\nL 108.832253 206.697431 \r\nL 106.263784 206.697431 \r\nz\r\n\" style=\"fill:#8dd3c7;\"/>\r\n   </g>\r\n   <g id=\"patch_21\">\r\n    <path clip-path=\"url(#p5994ae14d1)\" d=\"M 109.474371 224.64 \r\nL 112.04284 224.64 \r\nL 112.04284 224.64 \r\nL 109.474371 224.64 \r\nz\r\n\" style=\"fill:#8dd3c7;\"/>\r\n   </g>\r\n   <g id=\"patch_22\">\r\n    <path clip-path=\"url(#p5994ae14d1)\" d=\"M 112.684958 224.64 \r\nL 115.253427 224.64 \r\nL 115.253427 224.64 \r\nL 112.684958 224.64 \r\nz\r\n\" style=\"fill:#8dd3c7;\"/>\r\n   </g>\r\n   <g id=\"patch_23\">\r\n    <path clip-path=\"url(#p5994ae14d1)\" d=\"M 115.895544 224.64 \r\nL 118.464014 224.64 \r\nL 118.464014 85.628373 \r\nL 115.895544 85.628373 \r\nz\r\n\" style=\"fill:#8dd3c7;\"/>\r\n   </g>\r\n   <g id=\"patch_24\">\r\n    <path clip-path=\"url(#p5994ae14d1)\" d=\"M 119.106131 224.64 \r\nL 121.674601 224.64 \r\nL 121.674601 222.689185 \r\nL 119.106131 222.689185 \r\nz\r\n\" style=\"fill:#8dd3c7;\"/>\r\n   </g>\r\n   <g id=\"patch_25\">\r\n    <path clip-path=\"url(#p5994ae14d1)\" d=\"M 122.316718 224.64 \r\nL 124.885188 224.64 \r\nL 124.885188 224.64 \r\nL 122.316718 224.64 \r\nz\r\n\" style=\"fill:#8dd3c7;\"/>\r\n   </g>\r\n   <g id=\"patch_26\">\r\n    <path clip-path=\"url(#p5994ae14d1)\" d=\"M 125.527305 224.64 \r\nL 128.095775 224.64 \r\nL 128.095775 224.64 \r\nL 125.527305 224.64 \r\nz\r\n\" style=\"fill:#8dd3c7;\"/>\r\n   </g>\r\n   <g id=\"patch_27\">\r\n    <path clip-path=\"url(#p5994ae14d1)\" d=\"M 128.737892 224.64 \r\nL 131.306361 224.64 \r\nL 131.306361 214.001212 \r\nL 128.737892 214.001212 \r\nz\r\n\" style=\"fill:#8dd3c7;\"/>\r\n   </g>\r\n   <g id=\"patch_28\">\r\n    <path clip-path=\"url(#p5994ae14d1)\" d=\"M 131.948479 224.64 \r\nL 134.516948 224.64 \r\nL 134.516948 184.668231 \r\nL 131.948479 184.668231 \r\nz\r\n\" style=\"fill:#8dd3c7;\"/>\r\n   </g>\r\n   <g id=\"patch_29\">\r\n    <path clip-path=\"url(#p5994ae14d1)\" d=\"M 135.159066 224.64 \r\nL 137.727535 224.64 \r\nL 137.727535 207.782749 \r\nL 135.159066 207.782749 \r\nz\r\n\" style=\"fill:#8dd3c7;\"/>\r\n   </g>\r\n   <g id=\"patch_30\">\r\n    <path clip-path=\"url(#p5994ae14d1)\" d=\"M 138.369653 224.64 \r\nL 140.938122 224.64 \r\nL 140.938122 205.943212 \r\nL 138.369653 205.943212 \r\nz\r\n\" style=\"fill:#8dd3c7;\"/>\r\n   </g>\r\n   <g id=\"patch_31\">\r\n    <path clip-path=\"url(#p5994ae14d1)\" d=\"M 141.580239 224.64 \r\nL 144.148709 224.64 \r\nL 144.148709 209.904892 \r\nL 141.580239 209.904892 \r\nz\r\n\" style=\"fill:#8dd3c7;\"/>\r\n   </g>\r\n   <g id=\"patch_32\">\r\n    <path clip-path=\"url(#p5994ae14d1)\" d=\"M 144.790826 224.64 \r\nL 147.359296 224.64 \r\nL 147.359296 205.335822 \r\nL 144.790826 205.335822 \r\nz\r\n\" style=\"fill:#8dd3c7;\"/>\r\n   </g>\r\n   <g id=\"patch_33\">\r\n    <path clip-path=\"url(#p5994ae14d1)\" d=\"M 148.001413 224.64 \r\nL 150.569883 224.64 \r\nL 150.569883 195.348971 \r\nL 148.001413 195.348971 \r\nz\r\n\" style=\"fill:#8dd3c7;\"/>\r\n   </g>\r\n   <g id=\"patch_34\">\r\n    <path clip-path=\"url(#p5994ae14d1)\" d=\"M 151.212 224.64 \r\nL 153.78047 224.64 \r\nL 153.78047 186.700946 \r\nL 151.212 186.700946 \r\nz\r\n\" style=\"fill:#8dd3c7;\"/>\r\n   </g>\r\n   <g id=\"patch_35\">\r\n    <path clip-path=\"url(#p5994ae14d1)\" d=\"M 154.422587 224.64 \r\nL 156.991057 224.64 \r\nL 156.991057 187.754796 \r\nL 154.422587 187.754796 \r\nz\r\n\" style=\"fill:#8dd3c7;\"/>\r\n   </g>\r\n   <g id=\"patch_36\">\r\n    <path clip-path=\"url(#p5994ae14d1)\" d=\"M 157.633174 224.64 \r\nL 160.201643 224.64 \r\nL 160.201643 209.443186 \r\nL 157.633174 209.443186 \r\nz\r\n\" style=\"fill:#8dd3c7;\"/>\r\n   </g>\r\n   <g id=\"patch_37\">\r\n    <path clip-path=\"url(#p5994ae14d1)\" d=\"M 160.843761 224.64 \r\nL 163.41223 224.64 \r\nL 163.41223 206.112307 \r\nL 160.843761 206.112307 \r\nz\r\n\" style=\"fill:#8dd3c7;\"/>\r\n   </g>\r\n   <g id=\"patch_38\">\r\n    <path clip-path=\"url(#p5994ae14d1)\" d=\"M 164.054348 224.64 \r\nL 166.622817 224.64 \r\nL 166.622817 173.044826 \r\nL 164.054348 173.044826 \r\nz\r\n\" style=\"fill:#8dd3c7;\"/>\r\n   </g>\r\n   <g id=\"patch_39\">\r\n    <path clip-path=\"url(#p5994ae14d1)\" d=\"M 167.264935 224.64 \r\nL 169.833404 224.64 \r\nL 169.833404 188.118897 \r\nL 167.264935 188.118897 \r\nz\r\n\" style=\"fill:#8dd3c7;\"/>\r\n   </g>\r\n   <g id=\"patch_40\">\r\n    <path clip-path=\"url(#p5994ae14d1)\" d=\"M 170.475521 224.64 \r\nL 173.043991 224.64 \r\nL 173.043991 193.212988 \r\nL 170.475521 193.212988 \r\nz\r\n\" style=\"fill:#8dd3c7;\"/>\r\n   </g>\r\n   <g id=\"patch_41\">\r\n    <path clip-path=\"url(#p5994ae14d1)\" d=\"M 173.686108 224.64 \r\nL 176.254578 224.64 \r\nL 176.254578 203.851982 \r\nL 173.686108 203.851982 \r\nz\r\n\" style=\"fill:#8dd3c7;\"/>\r\n   </g>\r\n   <g id=\"patch_42\">\r\n    <path clip-path=\"url(#p5994ae14d1)\" d=\"M 176.896695 224.64 \r\nL 179.465165 224.64 \r\nL 179.465165 202.325261 \r\nL 176.896695 202.325261 \r\nz\r\n\" style=\"fill:#8dd3c7;\"/>\r\n   </g>\r\n   <g id=\"patch_43\">\r\n    <path clip-path=\"url(#p5994ae14d1)\" d=\"M 180.107282 224.64 \r\nL 182.675752 224.64 \r\nL 182.675752 197.383262 \r\nL 180.107282 197.383262 \r\nz\r\n\" style=\"fill:#8dd3c7;\"/>\r\n   </g>\r\n   <g id=\"patch_44\">\r\n    <path clip-path=\"url(#p5994ae14d1)\" d=\"M 183.317869 224.64 \r\nL 185.886338 224.64 \r\nL 185.886338 203.807908 \r\nL 183.317869 203.807908 \r\nz\r\n\" style=\"fill:#8dd3c7;\"/>\r\n   </g>\r\n   <g id=\"patch_45\">\r\n    <path clip-path=\"url(#p5994ae14d1)\" d=\"M 186.528456 224.64 \r\nL 189.096925 224.64 \r\nL 189.096925 182.34372 \r\nL 186.528456 182.34372 \r\nz\r\n\" style=\"fill:#8dd3c7;\"/>\r\n   </g>\r\n   <g id=\"patch_46\">\r\n    <path clip-path=\"url(#p5994ae14d1)\" d=\"M 189.739043 224.64 \r\nL 192.307512 224.64 \r\nL 192.307512 187.179701 \r\nL 189.739043 187.179701 \r\nz\r\n\" style=\"fill:#8dd3c7;\"/>\r\n   </g>\r\n   <g id=\"patch_47\">\r\n    <path clip-path=\"url(#p5994ae14d1)\" d=\"M 192.94963 224.64 \r\nL 195.518099 224.64 \r\nL 195.518099 179.071834 \r\nL 192.94963 179.071834 \r\nz\r\n\" style=\"fill:#8dd3c7;\"/>\r\n   </g>\r\n   <g id=\"patch_48\">\r\n    <path clip-path=\"url(#p5994ae14d1)\" d=\"M 196.160216 224.64 \r\nL 198.728686 224.64 \r\nL 198.728686 224.64 \r\nL 196.160216 224.64 \r\nz\r\n\" style=\"fill:#8dd3c7;\"/>\r\n   </g>\r\n   <g id=\"patch_49\">\r\n    <path clip-path=\"url(#p5994ae14d1)\" d=\"M 199.370803 224.64 \r\nL 201.939273 224.64 \r\nL 201.939273 224.64 \r\nL 199.370803 224.64 \r\nz\r\n\" style=\"fill:#8dd3c7;\"/>\r\n   </g>\r\n   <g id=\"patch_50\">\r\n    <path clip-path=\"url(#p5994ae14d1)\" d=\"M 202.58139 224.64 \r\nL 205.14986 224.64 \r\nL 205.14986 185.148575 \r\nL 202.58139 185.148575 \r\nz\r\n\" style=\"fill:#8dd3c7;\"/>\r\n   </g>\r\n   <g id=\"patch_51\">\r\n    <path clip-path=\"url(#p5994ae14d1)\" d=\"M 205.791977 224.64 \r\nL 208.360447 224.64 \r\nL 208.360447 183.700449 \r\nL 205.791977 183.700449 \r\nz\r\n\" style=\"fill:#8dd3c7;\"/>\r\n   </g>\r\n   <g id=\"patch_52\">\r\n    <path clip-path=\"url(#p5994ae14d1)\" d=\"M 209.002564 224.64 \r\nL 211.571034 224.64 \r\nL 211.571034 196.085539 \r\nL 209.002564 196.085539 \r\nz\r\n\" style=\"fill:#8dd3c7;\"/>\r\n   </g>\r\n   <g id=\"patch_53\">\r\n    <path clip-path=\"url(#p5994ae14d1)\" d=\"M 212.213151 224.64 \r\nL 214.78162 224.64 \r\nL 214.78162 199.701471 \r\nL 212.213151 199.701471 \r\nz\r\n\" style=\"fill:#8dd3c7;\"/>\r\n   </g>\r\n   <g id=\"patch_54\">\r\n    <path clip-path=\"url(#p5994ae14d1)\" d=\"M 215.423738 224.64 \r\nL 217.992207 224.64 \r\nL 217.992207 206.690712 \r\nL 215.423738 206.690712 \r\nz\r\n\" style=\"fill:#8dd3c7;\"/>\r\n   </g>\r\n   <g id=\"patch_55\">\r\n    <path clip-path=\"url(#p5994ae14d1)\" d=\"M 218.634325 224.64 \r\nL 221.202794 224.64 \r\nL 221.202794 194.522969 \r\nL 218.634325 194.522969 \r\nz\r\n\" style=\"fill:#8dd3c7;\"/>\r\n   </g>\r\n   <g id=\"patch_56\">\r\n    <path clip-path=\"url(#p5994ae14d1)\" d=\"M 221.844912 224.64 \r\nL 224.413381 224.64 \r\nL 224.413381 180.223003 \r\nL 221.844912 180.223003 \r\nz\r\n\" style=\"fill:#8dd3c7;\"/>\r\n   </g>\r\n   <g id=\"patch_57\">\r\n    <path clip-path=\"url(#p5994ae14d1)\" d=\"M 225.055498 224.64 \r\nL 227.623968 224.64 \r\nL 227.623968 213.683312 \r\nL 225.055498 213.683312 \r\nz\r\n\" style=\"fill:#8dd3c7;\"/>\r\n   </g>\r\n   <g id=\"patch_58\">\r\n    <path clip-path=\"url(#p5994ae14d1)\" d=\"M 228.266085 224.64 \r\nL 230.834555 224.64 \r\nL 230.834555 201.374688 \r\nL 228.266085 201.374688 \r\nz\r\n\" style=\"fill:#8dd3c7;\"/>\r\n   </g>\r\n   <g id=\"patch_59\">\r\n    <path clip-path=\"url(#p5994ae14d1)\" d=\"M 231.476672 224.64 \r\nL 234.045142 224.64 \r\nL 234.045142 202.704052 \r\nL 231.476672 202.704052 \r\nz\r\n\" style=\"fill:#8dd3c7;\"/>\r\n   </g>\r\n   <g id=\"patch_60\">\r\n    <path clip-path=\"url(#p5994ae14d1)\" d=\"M 234.687259 224.64 \r\nL 237.255729 224.64 \r\nL 237.255729 205.591219 \r\nL 234.687259 205.591219 \r\nz\r\n\" style=\"fill:#8dd3c7;\"/>\r\n   </g>\r\n   <g id=\"patch_61\">\r\n    <path clip-path=\"url(#p5994ae14d1)\" d=\"M 237.897846 224.64 \r\nL 240.466315 224.64 \r\nL 240.466315 198.267971 \r\nL 237.897846 198.267971 \r\nz\r\n\" style=\"fill:#8dd3c7;\"/>\r\n   </g>\r\n   <g id=\"patch_62\">\r\n    <path clip-path=\"url(#p5994ae14d1)\" d=\"M 241.108433 224.64 \r\nL 243.676902 224.64 \r\nL 243.676902 204.035749 \r\nL 241.108433 204.035749 \r\nz\r\n\" style=\"fill:#8dd3c7;\"/>\r\n   </g>\r\n   <g id=\"patch_63\">\r\n    <path clip-path=\"url(#p5994ae14d1)\" d=\"M 244.31902 224.64 \r\nL 246.887489 224.64 \r\nL 246.887489 198.276689 \r\nL 244.31902 198.276689 \r\nz\r\n\" style=\"fill:#8dd3c7;\"/>\r\n   </g>\r\n   <g id=\"patch_64\">\r\n    <path clip-path=\"url(#p5994ae14d1)\" d=\"M 247.529607 224.64 \r\nL 250.098076 224.64 \r\nL 250.098076 191.155146 \r\nL 247.529607 191.155146 \r\nz\r\n\" style=\"fill:#8dd3c7;\"/>\r\n   </g>\r\n   <g id=\"patch_65\">\r\n    <path clip-path=\"url(#p5994ae14d1)\" d=\"M 250.740193 224.64 \r\nL 253.308663 224.64 \r\nL 253.308663 196.845362 \r\nL 250.740193 196.845362 \r\nz\r\n\" style=\"fill:#8dd3c7;\"/>\r\n   </g>\r\n   <g id=\"patch_66\">\r\n    <path clip-path=\"url(#p5994ae14d1)\" d=\"M 253.95078 224.64 \r\nL 256.51925 224.64 \r\nL 256.51925 202.625861 \r\nL 253.95078 202.625861 \r\nz\r\n\" style=\"fill:#8dd3c7;\"/>\r\n   </g>\r\n   <g id=\"patch_67\">\r\n    <path clip-path=\"url(#p5994ae14d1)\" d=\"M 257.161367 224.64 \r\nL 259.729837 224.64 \r\nL 259.729837 224.64 \r\nL 257.161367 224.64 \r\nz\r\n\" style=\"fill:#8dd3c7;\"/>\r\n   </g>\r\n   <g id=\"patch_68\">\r\n    <path clip-path=\"url(#p5994ae14d1)\" d=\"M 260.371954 224.64 \r\nL 262.940424 224.64 \r\nL 262.940424 224.64 \r\nL 260.371954 224.64 \r\nz\r\n\" style=\"fill:#8dd3c7;\"/>\r\n   </g>\r\n   <g id=\"patch_69\">\r\n    <path clip-path=\"url(#p5994ae14d1)\" d=\"M 263.582541 224.64 \r\nL 266.151011 224.64 \r\nL 266.151011 221.539014 \r\nL 263.582541 221.539014 \r\nz\r\n\" style=\"fill:#8dd3c7;\"/>\r\n   </g>\r\n   <g id=\"patch_70\">\r\n    <path clip-path=\"url(#p5994ae14d1)\" d=\"M 266.793128 224.64 \r\nL 269.361597 224.64 \r\nL 269.361597 207.611364 \r\nL 266.793128 207.611364 \r\nz\r\n\" style=\"fill:#8dd3c7;\"/>\r\n   </g>\r\n   <g id=\"patch_71\">\r\n    <path clip-path=\"url(#p5994ae14d1)\" d=\"M 270.003715 224.64 \r\nL 272.572184 224.64 \r\nL 272.572184 195.203232 \r\nL 270.003715 195.203232 \r\nz\r\n\" style=\"fill:#8dd3c7;\"/>\r\n   </g>\r\n   <g id=\"patch_72\">\r\n    <path clip-path=\"url(#p5994ae14d1)\" d=\"M 273.214302 224.64 \r\nL 275.782771 224.64 \r\nL 275.782771 202.337079 \r\nL 273.214302 202.337079 \r\nz\r\n\" style=\"fill:#8dd3c7;\"/>\r\n   </g>\r\n   <g id=\"patch_73\">\r\n    <path clip-path=\"url(#p5994ae14d1)\" d=\"M 276.424889 224.64 \r\nL 278.993358 224.64 \r\nL 278.993358 220.370345 \r\nL 276.424889 220.370345 \r\nz\r\n\" style=\"fill:#8dd3c7;\"/>\r\n   </g>\r\n   <g id=\"patch_74\">\r\n    <path clip-path=\"url(#p5994ae14d1)\" d=\"M 279.635475 224.64 \r\nL 282.203945 224.64 \r\nL 282.203945 224.64 \r\nL 279.635475 224.64 \r\nz\r\n\" style=\"fill:#8dd3c7;\"/>\r\n   </g>\r\n   <g id=\"patch_75\">\r\n    <path clip-path=\"url(#p5994ae14d1)\" d=\"M 282.846062 224.64 \r\nL 285.414532 224.64 \r\nL 285.414532 187.847418 \r\nL 282.846062 187.847418 \r\nz\r\n\" style=\"fill:#8dd3c7;\"/>\r\n   </g>\r\n   <g id=\"patch_76\">\r\n    <path clip-path=\"url(#p5994ae14d1)\" d=\"M 286.056649 224.64 \r\nL 288.625119 224.64 \r\nL 288.625119 184.545159 \r\nL 286.056649 184.545159 \r\nz\r\n\" style=\"fill:#8dd3c7;\"/>\r\n   </g>\r\n   <g id=\"patch_77\">\r\n    <path clip-path=\"url(#p5994ae14d1)\" d=\"M 289.267236 224.64 \r\nL 291.835706 224.64 \r\nL 291.835706 181.447653 \r\nL 289.267236 181.447653 \r\nz\r\n\" style=\"fill:#8dd3c7;\"/>\r\n   </g>\r\n   <g id=\"patch_78\">\r\n    <path clip-path=\"url(#p5994ae14d1)\" d=\"M 292.477823 224.64 \r\nL 295.046292 224.64 \r\nL 295.046292 190.659739 \r\nL 292.477823 190.659739 \r\nz\r\n\" style=\"fill:#8dd3c7;\"/>\r\n   </g>\r\n   <g id=\"patch_79\">\r\n    <path clip-path=\"url(#p5994ae14d1)\" d=\"M 295.68841 224.64 \r\nL 298.256879 224.64 \r\nL 298.256879 224.267387 \r\nL 295.68841 224.267387 \r\nz\r\n\" style=\"fill:#8dd3c7;\"/>\r\n   </g>\r\n   <g id=\"patch_80\">\r\n    <path clip-path=\"url(#p5994ae14d1)\" d=\"M 298.898997 224.64 \r\nL 301.467466 224.64 \r\nL 301.467466 219.008515 \r\nL 298.898997 219.008515 \r\nz\r\n\" style=\"fill:#8dd3c7;\"/>\r\n   </g>\r\n   <g id=\"patch_81\">\r\n    <path clip-path=\"url(#p5994ae14d1)\" d=\"M 302.109584 224.64 \r\nL 304.678053 224.64 \r\nL 304.678053 218.785743 \r\nL 302.109584 218.785743 \r\nz\r\n\" style=\"fill:#8dd3c7;\"/>\r\n   </g>\r\n   <g id=\"patch_82\">\r\n    <path clip-path=\"url(#p5994ae14d1)\" d=\"M 305.32017 224.64 \r\nL 307.88864 224.64 \r\nL 307.88864 219.868909 \r\nL 305.32017 219.868909 \r\nz\r\n\" style=\"fill:#8dd3c7;\"/>\r\n   </g>\r\n   <g id=\"patch_83\">\r\n    <path clip-path=\"url(#p5994ae14d1)\" d=\"M 308.530757 224.64 \r\nL 311.099227 224.64 \r\nL 311.099227 219.433974 \r\nL 308.530757 219.433974 \r\nz\r\n\" style=\"fill:#8dd3c7;\"/>\r\n   </g>\r\n   <g id=\"patch_84\">\r\n    <path clip-path=\"url(#p5994ae14d1)\" d=\"M 311.741344 224.64 \r\nL 314.309814 224.64 \r\nL 314.309814 219.070113 \r\nL 311.741344 219.070113 \r\nz\r\n\" style=\"fill:#8dd3c7;\"/>\r\n   </g>\r\n   <g id=\"patch_85\">\r\n    <path clip-path=\"url(#p5994ae14d1)\" d=\"M 314.951931 224.64 \r\nL 317.520401 224.64 \r\nL 317.520401 219.365308 \r\nL 314.951931 219.365308 \r\nz\r\n\" style=\"fill:#8dd3c7;\"/>\r\n   </g>\r\n   <g id=\"patch_86\">\r\n    <path clip-path=\"url(#p5994ae14d1)\" d=\"M 318.162518 224.64 \r\nL 320.730987 224.64 \r\nL 320.730987 210.965023 \r\nL 318.162518 210.965023 \r\nz\r\n\" style=\"fill:#8dd3c7;\"/>\r\n   </g>\r\n   <g id=\"patch_87\">\r\n    <path clip-path=\"url(#p5994ae14d1)\" d=\"M 321.373105 224.64 \r\nL 323.941574 224.64 \r\nL 323.941574 175.568185 \r\nL 321.373105 175.568185 \r\nz\r\n\" style=\"fill:#8dd3c7;\"/>\r\n   </g>\r\n   <g id=\"patch_88\">\r\n    <path clip-path=\"url(#p5994ae14d1)\" d=\"M 324.583692 224.64 \r\nL 327.152161 224.64 \r\nL 327.152161 182.736855 \r\nL 324.583692 182.736855 \r\nz\r\n\" style=\"fill:#8dd3c7;\"/>\r\n   </g>\r\n   <g id=\"patch_89\">\r\n    <path clip-path=\"url(#p5994ae14d1)\" d=\"M 327.794279 224.64 \r\nL 330.362748 224.64 \r\nL 330.362748 224.64 \r\nL 327.794279 224.64 \r\nz\r\n\" style=\"fill:#8dd3c7;\"/>\r\n   </g>\r\n   <g id=\"patch_90\">\r\n    <path clip-path=\"url(#p5994ae14d1)\" d=\"M 331.004866 224.64 \r\nL 333.573335 224.64 \r\nL 333.573335 220.743584 \r\nL 331.004866 220.743584 \r\nz\r\n\" style=\"fill:#8dd3c7;\"/>\r\n   </g>\r\n   <g id=\"patch_91\">\r\n    <path clip-path=\"url(#p5994ae14d1)\" d=\"M 334.215452 224.64 \r\nL 336.783922 224.64 \r\nL 336.783922 222.380031 \r\nL 334.215452 222.380031 \r\nz\r\n\" style=\"fill:#8dd3c7;\"/>\r\n   </g>\r\n   <g id=\"patch_92\">\r\n    <path clip-path=\"url(#p5994ae14d1)\" d=\"M 337.426039 224.64 \r\nL 339.994509 224.64 \r\nL 339.994509 208.0198 \r\nL 337.426039 208.0198 \r\nz\r\n\" style=\"fill:#8dd3c7;\"/>\r\n   </g>\r\n   <g id=\"patch_93\">\r\n    <path clip-path=\"url(#p5994ae14d1)\" d=\"M 340.636626 224.64 \r\nL 343.205096 224.64 \r\nL 343.205096 211.157 \r\nL 340.636626 211.157 \r\nz\r\n\" style=\"fill:#8dd3c7;\"/>\r\n   </g>\r\n   <g id=\"patch_94\">\r\n    <path clip-path=\"url(#p5994ae14d1)\" d=\"M 343.847213 224.64 \r\nL 346.415683 224.64 \r\nL 346.415683 221.161581 \r\nL 343.847213 221.161581 \r\nz\r\n\" style=\"fill:#8dd3c7;\"/>\r\n   </g>\r\n   <g id=\"patch_95\">\r\n    <path clip-path=\"url(#p5994ae14d1)\" d=\"M 347.0578 224.64 \r\nL 349.626269 224.64 \r\nL 349.626269 222.645977 \r\nL 347.0578 222.645977 \r\nz\r\n\" style=\"fill:#8dd3c7;\"/>\r\n   </g>\r\n   <g id=\"patch_96\">\r\n    <path clip-path=\"url(#p5994ae14d1)\" d=\"M 350.268387 224.64 \r\nL 352.836856 224.64 \r\nL 352.836856 224.64 \r\nL 350.268387 224.64 \r\nz\r\n\" style=\"fill:#8dd3c7;\"/>\r\n   </g>\r\n   <g id=\"patch_97\">\r\n    <path clip-path=\"url(#p5994ae14d1)\" d=\"M 353.478974 224.64 \r\nL 356.047443 224.64 \r\nL 356.047443 224.64 \r\nL 353.478974 224.64 \r\nz\r\n\" style=\"fill:#8dd3c7;\"/>\r\n   </g>\r\n   <g id=\"matplotlib.axis_1\">\r\n    <g id=\"xtick_1\">\r\n     <g id=\"line2d_1\">\r\n      <defs>\r\n       <path d=\"M 0 0 \r\nL 0 3.5 \r\n\" id=\"m1331938f8c\" style=\"stroke:#ffffff;stroke-width:0.8;\"/>\r\n      </defs>\r\n      <g>\r\n       <use style=\"fill:#ffffff;stroke:#ffffff;stroke-width:0.8;\" x=\"52.968042\" xlink:href=\"#m1331938f8c\" y=\"224.64\"/>\r\n      </g>\r\n     </g>\r\n     <g id=\"text_1\">\r\n      <!-- 0 -->\r\n      <g style=\"fill:#ffffff;\" transform=\"translate(49.786792 239.238437)scale(0.1 -0.1)\">\r\n       <defs>\r\n        <path d=\"M 31.78125 66.40625 \r\nQ 24.171875 66.40625 20.328125 58.90625 \r\nQ 16.5 51.421875 16.5 36.375 \r\nQ 16.5 21.390625 20.328125 13.890625 \r\nQ 24.171875 6.390625 31.78125 6.390625 \r\nQ 39.453125 6.390625 43.28125 13.890625 \r\nQ 47.125 21.390625 47.125 36.375 \r\nQ 47.125 51.421875 43.28125 58.90625 \r\nQ 39.453125 66.40625 31.78125 66.40625 \r\nz\r\nM 31.78125 74.21875 \r\nQ 44.046875 74.21875 50.515625 64.515625 \r\nQ 56.984375 54.828125 56.984375 36.375 \r\nQ 56.984375 17.96875 50.515625 8.265625 \r\nQ 44.046875 -1.421875 31.78125 -1.421875 \r\nQ 19.53125 -1.421875 13.0625 8.265625 \r\nQ 6.59375 17.96875 6.59375 36.375 \r\nQ 6.59375 54.828125 13.0625 64.515625 \r\nQ 19.53125 74.21875 31.78125 74.21875 \r\nz\r\n\" id=\"DejaVuSans-48\"/>\r\n       </defs>\r\n       <use xlink:href=\"#DejaVuSans-48\"/>\r\n      </g>\r\n     </g>\r\n    </g>\r\n    <g id=\"xtick_2\">\r\n     <g id=\"line2d_2\">\r\n      <g>\r\n       <use style=\"fill:#ffffff;stroke:#ffffff;stroke-width:0.8;\" x=\"117.179779\" xlink:href=\"#m1331938f8c\" y=\"224.64\"/>\r\n      </g>\r\n     </g>\r\n     <g id=\"text_2\">\r\n      <!-- 20 -->\r\n      <g style=\"fill:#ffffff;\" transform=\"translate(110.817279 239.238437)scale(0.1 -0.1)\">\r\n       <defs>\r\n        <path d=\"M 19.1875 8.296875 \r\nL 53.609375 8.296875 \r\nL 53.609375 0 \r\nL 7.328125 0 \r\nL 7.328125 8.296875 \r\nQ 12.9375 14.109375 22.625 23.890625 \r\nQ 32.328125 33.6875 34.8125 36.53125 \r\nQ 39.546875 41.84375 41.421875 45.53125 \r\nQ 43.3125 49.21875 43.3125 52.78125 \r\nQ 43.3125 58.59375 39.234375 62.25 \r\nQ 35.15625 65.921875 28.609375 65.921875 \r\nQ 23.96875 65.921875 18.8125 64.3125 \r\nQ 13.671875 62.703125 7.8125 59.421875 \r\nL 7.8125 69.390625 \r\nQ 13.765625 71.78125 18.9375 73 \r\nQ 24.125 74.21875 28.421875 74.21875 \r\nQ 39.75 74.21875 46.484375 68.546875 \r\nQ 53.21875 62.890625 53.21875 53.421875 \r\nQ 53.21875 48.921875 51.53125 44.890625 \r\nQ 49.859375 40.875 45.40625 35.40625 \r\nQ 44.1875 33.984375 37.640625 27.21875 \r\nQ 31.109375 20.453125 19.1875 8.296875 \r\nz\r\n\" id=\"DejaVuSans-50\"/>\r\n       </defs>\r\n       <use xlink:href=\"#DejaVuSans-50\"/>\r\n       <use x=\"63.623047\" xlink:href=\"#DejaVuSans-48\"/>\r\n      </g>\r\n     </g>\r\n    </g>\r\n    <g id=\"xtick_3\">\r\n     <g id=\"line2d_3\">\r\n      <g>\r\n       <use style=\"fill:#ffffff;stroke:#ffffff;stroke-width:0.8;\" x=\"181.391517\" xlink:href=\"#m1331938f8c\" y=\"224.64\"/>\r\n      </g>\r\n     </g>\r\n     <g id=\"text_3\">\r\n      <!-- 40 -->\r\n      <g style=\"fill:#ffffff;\" transform=\"translate(175.029017 239.238437)scale(0.1 -0.1)\">\r\n       <defs>\r\n        <path d=\"M 37.796875 64.3125 \r\nL 12.890625 25.390625 \r\nL 37.796875 25.390625 \r\nz\r\nM 35.203125 72.90625 \r\nL 47.609375 72.90625 \r\nL 47.609375 25.390625 \r\nL 58.015625 25.390625 \r\nL 58.015625 17.1875 \r\nL 47.609375 17.1875 \r\nL 47.609375 0 \r\nL 37.796875 0 \r\nL 37.796875 17.1875 \r\nL 4.890625 17.1875 \r\nL 4.890625 26.703125 \r\nz\r\n\" id=\"DejaVuSans-52\"/>\r\n       </defs>\r\n       <use xlink:href=\"#DejaVuSans-52\"/>\r\n       <use x=\"63.623047\" xlink:href=\"#DejaVuSans-48\"/>\r\n      </g>\r\n     </g>\r\n    </g>\r\n    <g id=\"xtick_4\">\r\n     <g id=\"line2d_4\">\r\n      <g>\r\n       <use style=\"fill:#ffffff;stroke:#ffffff;stroke-width:0.8;\" x=\"245.603254\" xlink:href=\"#m1331938f8c\" y=\"224.64\"/>\r\n      </g>\r\n     </g>\r\n     <g id=\"text_4\">\r\n      <!-- 60 -->\r\n      <g style=\"fill:#ffffff;\" transform=\"translate(239.240754 239.238437)scale(0.1 -0.1)\">\r\n       <defs>\r\n        <path d=\"M 33.015625 40.375 \r\nQ 26.375 40.375 22.484375 35.828125 \r\nQ 18.609375 31.296875 18.609375 23.390625 \r\nQ 18.609375 15.53125 22.484375 10.953125 \r\nQ 26.375 6.390625 33.015625 6.390625 \r\nQ 39.65625 6.390625 43.53125 10.953125 \r\nQ 47.40625 15.53125 47.40625 23.390625 \r\nQ 47.40625 31.296875 43.53125 35.828125 \r\nQ 39.65625 40.375 33.015625 40.375 \r\nz\r\nM 52.59375 71.296875 \r\nL 52.59375 62.3125 \r\nQ 48.875 64.0625 45.09375 64.984375 \r\nQ 41.3125 65.921875 37.59375 65.921875 \r\nQ 27.828125 65.921875 22.671875 59.328125 \r\nQ 17.53125 52.734375 16.796875 39.40625 \r\nQ 19.671875 43.65625 24.015625 45.921875 \r\nQ 28.375 48.1875 33.59375 48.1875 \r\nQ 44.578125 48.1875 50.953125 41.515625 \r\nQ 57.328125 34.859375 57.328125 23.390625 \r\nQ 57.328125 12.15625 50.6875 5.359375 \r\nQ 44.046875 -1.421875 33.015625 -1.421875 \r\nQ 20.359375 -1.421875 13.671875 8.265625 \r\nQ 6.984375 17.96875 6.984375 36.375 \r\nQ 6.984375 53.65625 15.1875 63.9375 \r\nQ 23.390625 74.21875 37.203125 74.21875 \r\nQ 40.921875 74.21875 44.703125 73.484375 \r\nQ 48.484375 72.75 52.59375 71.296875 \r\nz\r\n\" id=\"DejaVuSans-54\"/>\r\n       </defs>\r\n       <use xlink:href=\"#DejaVuSans-54\"/>\r\n       <use x=\"63.623047\" xlink:href=\"#DejaVuSans-48\"/>\r\n      </g>\r\n     </g>\r\n    </g>\r\n    <g id=\"xtick_5\">\r\n     <g id=\"line2d_5\">\r\n      <g>\r\n       <use style=\"fill:#ffffff;stroke:#ffffff;stroke-width:0.8;\" x=\"309.814992\" xlink:href=\"#m1331938f8c\" y=\"224.64\"/>\r\n      </g>\r\n     </g>\r\n     <g id=\"text_5\">\r\n      <!-- 80 -->\r\n      <g style=\"fill:#ffffff;\" transform=\"translate(303.452492 239.238437)scale(0.1 -0.1)\">\r\n       <defs>\r\n        <path d=\"M 31.78125 34.625 \r\nQ 24.75 34.625 20.71875 30.859375 \r\nQ 16.703125 27.09375 16.703125 20.515625 \r\nQ 16.703125 13.921875 20.71875 10.15625 \r\nQ 24.75 6.390625 31.78125 6.390625 \r\nQ 38.8125 6.390625 42.859375 10.171875 \r\nQ 46.921875 13.96875 46.921875 20.515625 \r\nQ 46.921875 27.09375 42.890625 30.859375 \r\nQ 38.875 34.625 31.78125 34.625 \r\nz\r\nM 21.921875 38.8125 \r\nQ 15.578125 40.375 12.03125 44.71875 \r\nQ 8.5 49.078125 8.5 55.328125 \r\nQ 8.5 64.0625 14.71875 69.140625 \r\nQ 20.953125 74.21875 31.78125 74.21875 \r\nQ 42.671875 74.21875 48.875 69.140625 \r\nQ 55.078125 64.0625 55.078125 55.328125 \r\nQ 55.078125 49.078125 51.53125 44.71875 \r\nQ 48 40.375 41.703125 38.8125 \r\nQ 48.828125 37.15625 52.796875 32.3125 \r\nQ 56.78125 27.484375 56.78125 20.515625 \r\nQ 56.78125 9.90625 50.3125 4.234375 \r\nQ 43.84375 -1.421875 31.78125 -1.421875 \r\nQ 19.734375 -1.421875 13.25 4.234375 \r\nQ 6.78125 9.90625 6.78125 20.515625 \r\nQ 6.78125 27.484375 10.78125 32.3125 \r\nQ 14.796875 37.15625 21.921875 38.8125 \r\nz\r\nM 18.3125 54.390625 \r\nQ 18.3125 48.734375 21.84375 45.5625 \r\nQ 25.390625 42.390625 31.78125 42.390625 \r\nQ 38.140625 42.390625 41.71875 45.5625 \r\nQ 45.3125 48.734375 45.3125 54.390625 \r\nQ 45.3125 60.0625 41.71875 63.234375 \r\nQ 38.140625 66.40625 31.78125 66.40625 \r\nQ 25.390625 66.40625 21.84375 63.234375 \r\nQ 18.3125 60.0625 18.3125 54.390625 \r\nz\r\n\" id=\"DejaVuSans-56\"/>\r\n       </defs>\r\n       <use xlink:href=\"#DejaVuSans-56\"/>\r\n       <use x=\"63.623047\" xlink:href=\"#DejaVuSans-48\"/>\r\n      </g>\r\n     </g>\r\n    </g>\r\n   </g>\r\n   <g id=\"matplotlib.axis_2\">\r\n    <g id=\"ytick_1\">\r\n     <g id=\"line2d_6\">\r\n      <defs>\r\n       <path d=\"M 0 0 \r\nL -3.5 0 \r\n\" id=\"m9d8c514592\" style=\"stroke:#ffffff;stroke-width:0.8;\"/>\r\n      </defs>\r\n      <g>\r\n       <use style=\"fill:#ffffff;stroke:#ffffff;stroke-width:0.8;\" x=\"36.465625\" xlink:href=\"#m9d8c514592\" y=\"224.64\"/>\r\n      </g>\r\n     </g>\r\n     <g id=\"text_6\">\r\n      <!-- 0.00 -->\r\n      <g style=\"fill:#ffffff;\" transform=\"translate(7.2 228.439219)scale(0.1 -0.1)\">\r\n       <defs>\r\n        <path d=\"M 10.6875 12.40625 \r\nL 21 12.40625 \r\nL 21 0 \r\nL 10.6875 0 \r\nz\r\n\" id=\"DejaVuSans-46\"/>\r\n       </defs>\r\n       <use xlink:href=\"#DejaVuSans-48\"/>\r\n       <use x=\"63.623047\" xlink:href=\"#DejaVuSans-46\"/>\r\n       <use x=\"95.410156\" xlink:href=\"#DejaVuSans-48\"/>\r\n       <use x=\"159.033203\" xlink:href=\"#DejaVuSans-48\"/>\r\n      </g>\r\n     </g>\r\n    </g>\r\n    <g id=\"ytick_2\">\r\n     <g id=\"line2d_7\">\r\n      <g>\r\n       <use style=\"fill:#ffffff;stroke:#ffffff;stroke-width:0.8;\" x=\"36.465625\" xlink:href=\"#m9d8c514592\" y=\"196.566929\"/>\r\n      </g>\r\n     </g>\r\n     <g id=\"text_7\">\r\n      <!-- 0.01 -->\r\n      <g style=\"fill:#ffffff;\" transform=\"translate(7.2 200.366148)scale(0.1 -0.1)\">\r\n       <defs>\r\n        <path d=\"M 12.40625 8.296875 \r\nL 28.515625 8.296875 \r\nL 28.515625 63.921875 \r\nL 10.984375 60.40625 \r\nL 10.984375 69.390625 \r\nL 28.421875 72.90625 \r\nL 38.28125 72.90625 \r\nL 38.28125 8.296875 \r\nL 54.390625 8.296875 \r\nL 54.390625 0 \r\nL 12.40625 0 \r\nz\r\n\" id=\"DejaVuSans-49\"/>\r\n       </defs>\r\n       <use xlink:href=\"#DejaVuSans-48\"/>\r\n       <use x=\"63.623047\" xlink:href=\"#DejaVuSans-46\"/>\r\n       <use x=\"95.410156\" xlink:href=\"#DejaVuSans-48\"/>\r\n       <use x=\"159.033203\" xlink:href=\"#DejaVuSans-49\"/>\r\n      </g>\r\n     </g>\r\n    </g>\r\n    <g id=\"ytick_3\">\r\n     <g id=\"line2d_8\">\r\n      <g>\r\n       <use style=\"fill:#ffffff;stroke:#ffffff;stroke-width:0.8;\" x=\"36.465625\" xlink:href=\"#m9d8c514592\" y=\"168.493858\"/>\r\n      </g>\r\n     </g>\r\n     <g id=\"text_8\">\r\n      <!-- 0.02 -->\r\n      <g style=\"fill:#ffffff;\" transform=\"translate(7.2 172.293077)scale(0.1 -0.1)\">\r\n       <use xlink:href=\"#DejaVuSans-48\"/>\r\n       <use x=\"63.623047\" xlink:href=\"#DejaVuSans-46\"/>\r\n       <use x=\"95.410156\" xlink:href=\"#DejaVuSans-48\"/>\r\n       <use x=\"159.033203\" xlink:href=\"#DejaVuSans-50\"/>\r\n      </g>\r\n     </g>\r\n    </g>\r\n    <g id=\"ytick_4\">\r\n     <g id=\"line2d_9\">\r\n      <g>\r\n       <use style=\"fill:#ffffff;stroke:#ffffff;stroke-width:0.8;\" x=\"36.465625\" xlink:href=\"#m9d8c514592\" y=\"140.420787\"/>\r\n      </g>\r\n     </g>\r\n     <g id=\"text_9\">\r\n      <!-- 0.03 -->\r\n      <g style=\"fill:#ffffff;\" transform=\"translate(7.2 144.220005)scale(0.1 -0.1)\">\r\n       <defs>\r\n        <path d=\"M 40.578125 39.3125 \r\nQ 47.65625 37.796875 51.625 33 \r\nQ 55.609375 28.21875 55.609375 21.1875 \r\nQ 55.609375 10.40625 48.1875 4.484375 \r\nQ 40.765625 -1.421875 27.09375 -1.421875 \r\nQ 22.515625 -1.421875 17.65625 -0.515625 \r\nQ 12.796875 0.390625 7.625 2.203125 \r\nL 7.625 11.71875 \r\nQ 11.71875 9.328125 16.59375 8.109375 \r\nQ 21.484375 6.890625 26.8125 6.890625 \r\nQ 36.078125 6.890625 40.9375 10.546875 \r\nQ 45.796875 14.203125 45.796875 21.1875 \r\nQ 45.796875 27.640625 41.28125 31.265625 \r\nQ 36.765625 34.90625 28.71875 34.90625 \r\nL 20.21875 34.90625 \r\nL 20.21875 43.015625 \r\nL 29.109375 43.015625 \r\nQ 36.375 43.015625 40.234375 45.921875 \r\nQ 44.09375 48.828125 44.09375 54.296875 \r\nQ 44.09375 59.90625 40.109375 62.90625 \r\nQ 36.140625 65.921875 28.71875 65.921875 \r\nQ 24.65625 65.921875 20.015625 65.03125 \r\nQ 15.375 64.15625 9.8125 62.3125 \r\nL 9.8125 71.09375 \r\nQ 15.4375 72.65625 20.34375 73.4375 \r\nQ 25.25 74.21875 29.59375 74.21875 \r\nQ 40.828125 74.21875 47.359375 69.109375 \r\nQ 53.90625 64.015625 53.90625 55.328125 \r\nQ 53.90625 49.265625 50.4375 45.09375 \r\nQ 46.96875 40.921875 40.578125 39.3125 \r\nz\r\n\" id=\"DejaVuSans-51\"/>\r\n       </defs>\r\n       <use xlink:href=\"#DejaVuSans-48\"/>\r\n       <use x=\"63.623047\" xlink:href=\"#DejaVuSans-46\"/>\r\n       <use x=\"95.410156\" xlink:href=\"#DejaVuSans-48\"/>\r\n       <use x=\"159.033203\" xlink:href=\"#DejaVuSans-51\"/>\r\n      </g>\r\n     </g>\r\n    </g>\r\n    <g id=\"ytick_5\">\r\n     <g id=\"line2d_10\">\r\n      <g>\r\n       <use style=\"fill:#ffffff;stroke:#ffffff;stroke-width:0.8;\" x=\"36.465625\" xlink:href=\"#m9d8c514592\" y=\"112.347716\"/>\r\n      </g>\r\n     </g>\r\n     <g id=\"text_10\">\r\n      <!-- 0.04 -->\r\n      <g style=\"fill:#ffffff;\" transform=\"translate(7.2 116.146934)scale(0.1 -0.1)\">\r\n       <use xlink:href=\"#DejaVuSans-48\"/>\r\n       <use x=\"63.623047\" xlink:href=\"#DejaVuSans-46\"/>\r\n       <use x=\"95.410156\" xlink:href=\"#DejaVuSans-48\"/>\r\n       <use x=\"159.033203\" xlink:href=\"#DejaVuSans-52\"/>\r\n      </g>\r\n     </g>\r\n    </g>\r\n    <g id=\"ytick_6\">\r\n     <g id=\"line2d_11\">\r\n      <g>\r\n       <use style=\"fill:#ffffff;stroke:#ffffff;stroke-width:0.8;\" x=\"36.465625\" xlink:href=\"#m9d8c514592\" y=\"84.274644\"/>\r\n      </g>\r\n     </g>\r\n     <g id=\"text_11\">\r\n      <!-- 0.05 -->\r\n      <g style=\"fill:#ffffff;\" transform=\"translate(7.2 88.073863)scale(0.1 -0.1)\">\r\n       <defs>\r\n        <path d=\"M 10.796875 72.90625 \r\nL 49.515625 72.90625 \r\nL 49.515625 64.59375 \r\nL 19.828125 64.59375 \r\nL 19.828125 46.734375 \r\nQ 21.96875 47.46875 24.109375 47.828125 \r\nQ 26.265625 48.1875 28.421875 48.1875 \r\nQ 40.625 48.1875 47.75 41.5 \r\nQ 54.890625 34.8125 54.890625 23.390625 \r\nQ 54.890625 11.625 47.5625 5.09375 \r\nQ 40.234375 -1.421875 26.90625 -1.421875 \r\nQ 22.3125 -1.421875 17.546875 -0.640625 \r\nQ 12.796875 0.140625 7.71875 1.703125 \r\nL 7.71875 11.625 \r\nQ 12.109375 9.234375 16.796875 8.0625 \r\nQ 21.484375 6.890625 26.703125 6.890625 \r\nQ 35.15625 6.890625 40.078125 11.328125 \r\nQ 45.015625 15.765625 45.015625 23.390625 \r\nQ 45.015625 31 40.078125 35.4375 \r\nQ 35.15625 39.890625 26.703125 39.890625 \r\nQ 22.75 39.890625 18.8125 39.015625 \r\nQ 14.890625 38.140625 10.796875 36.28125 \r\nz\r\n\" id=\"DejaVuSans-53\"/>\r\n       </defs>\r\n       <use xlink:href=\"#DejaVuSans-48\"/>\r\n       <use x=\"63.623047\" xlink:href=\"#DejaVuSans-46\"/>\r\n       <use x=\"95.410156\" xlink:href=\"#DejaVuSans-48\"/>\r\n       <use x=\"159.033203\" xlink:href=\"#DejaVuSans-53\"/>\r\n      </g>\r\n     </g>\r\n    </g>\r\n    <g id=\"ytick_7\">\r\n     <g id=\"line2d_12\">\r\n      <g>\r\n       <use style=\"fill:#ffffff;stroke:#ffffff;stroke-width:0.8;\" x=\"36.465625\" xlink:href=\"#m9d8c514592\" y=\"56.201573\"/>\r\n      </g>\r\n     </g>\r\n     <g id=\"text_12\">\r\n      <!-- 0.06 -->\r\n      <g style=\"fill:#ffffff;\" transform=\"translate(7.2 60.000792)scale(0.1 -0.1)\">\r\n       <use xlink:href=\"#DejaVuSans-48\"/>\r\n       <use x=\"63.623047\" xlink:href=\"#DejaVuSans-46\"/>\r\n       <use x=\"95.410156\" xlink:href=\"#DejaVuSans-48\"/>\r\n       <use x=\"159.033203\" xlink:href=\"#DejaVuSans-54\"/>\r\n      </g>\r\n     </g>\r\n    </g>\r\n    <g id=\"ytick_8\">\r\n     <g id=\"line2d_13\">\r\n      <g>\r\n       <use style=\"fill:#ffffff;stroke:#ffffff;stroke-width:0.8;\" x=\"36.465625\" xlink:href=\"#m9d8c514592\" y=\"28.128502\"/>\r\n      </g>\r\n     </g>\r\n     <g id=\"text_13\">\r\n      <!-- 0.07 -->\r\n      <g style=\"fill:#ffffff;\" transform=\"translate(7.2 31.927721)scale(0.1 -0.1)\">\r\n       <defs>\r\n        <path d=\"M 8.203125 72.90625 \r\nL 55.078125 72.90625 \r\nL 55.078125 68.703125 \r\nL 28.609375 0 \r\nL 18.3125 0 \r\nL 43.21875 64.59375 \r\nL 8.203125 64.59375 \r\nz\r\n\" id=\"DejaVuSans-55\"/>\r\n       </defs>\r\n       <use xlink:href=\"#DejaVuSans-48\"/>\r\n       <use x=\"63.623047\" xlink:href=\"#DejaVuSans-46\"/>\r\n       <use x=\"95.410156\" xlink:href=\"#DejaVuSans-48\"/>\r\n       <use x=\"159.033203\" xlink:href=\"#DejaVuSans-55\"/>\r\n      </g>\r\n     </g>\r\n    </g>\r\n   </g>\r\n   <g id=\"patch_98\">\r\n    <path d=\"M 36.465625 224.64 \r\nL 36.465625 7.2 \r\n\" style=\"fill:none;stroke:#ffffff;stroke-linecap:square;stroke-linejoin:miter;stroke-width:0.8;\"/>\r\n   </g>\r\n   <g id=\"patch_99\">\r\n    <path d=\"M 371.265625 224.64 \r\nL 371.265625 7.2 \r\n\" style=\"fill:none;stroke:#ffffff;stroke-linecap:square;stroke-linejoin:miter;stroke-width:0.8;\"/>\r\n   </g>\r\n   <g id=\"patch_100\">\r\n    <path d=\"M 36.465625 224.64 \r\nL 371.265625 224.64 \r\n\" style=\"fill:none;stroke:#ffffff;stroke-linecap:square;stroke-linejoin:miter;stroke-width:0.8;\"/>\r\n   </g>\r\n   <g id=\"patch_101\">\r\n    <path d=\"M 36.465625 7.2 \r\nL 371.265625 7.2 \r\n\" style=\"fill:none;stroke:#ffffff;stroke-linecap:square;stroke-linejoin:miter;stroke-width:0.8;\"/>\r\n   </g>\r\n  </g>\r\n </g>\r\n <defs>\r\n  <clipPath id=\"p5994ae14d1\">\r\n   <rect height=\"217.44\" width=\"334.8\" x=\"36.465625\" y=\"7.2\"/>\r\n  </clipPath>\r\n </defs>\r\n</svg>\r\n",
      "image/png": "[encoded data removed]"
     },
     "metadata": {}
    }
   ],
   "source": [
    "from matplotlib import pyplot\n",
    "# Plot feature importance\n",
    "#pyplot.xticks([ticks, importance])\n",
    "#importance.axes.set(xlim=(xmin, xmax), ylim=(ymin, ymax))\n",
    "pyplot.bar([x for x in range(len(importance))], importance)\n",
    "pyplot.show()"
   ]
  },
  {
   "cell_type": "markdown",
   "metadata": {},
   "source": [
    "### Easy Ensemble AdaBoost Classifier"
   ]
  },
  {
   "cell_type": "code",
   "execution_count": 103,
   "metadata": {},
   "outputs": [
    {
     "output_type": "stream",
     "name": "stdout",
     "text": [
      "Wall time: 30.4 s\n"
     ]
    },
    {
     "output_type": "execute_result",
     "data": {
      "text/plain": [
       "EasyEnsembleClassifier(n_estimators=100, random_state=1)"
      ]
     },
     "metadata": {},
     "execution_count": 103
    }
   ],
   "source": [
    "%%time\n",
    "# Train the EasyEnsembleClassifier\n",
    "from imblearn.ensemble import EasyEnsembleClassifier\n",
    "\n",
    "eec_model = EasyEnsembleClassifier(n_estimators=100,\n",
    "            random_state=1)\n",
    "eec_model.fit(X_train, y_train)"
   ]
  },
  {
   "cell_type": "code",
   "execution_count": 110,
   "metadata": {},
   "outputs": [
    {
     "output_type": "execute_result",
     "data": {
      "text/plain": [
       "0.925427358175101"
      ]
     },
     "metadata": {},
     "execution_count": 110
    }
   ],
   "source": [
    "# Calculated the balanced accuracy score\n",
    "predictions = eec_model.predict(X_test)\n",
    "balanced_accuracy_score(y_test, predictions)"
   ]
  },
  {
   "cell_type": "code",
   "execution_count": 106,
   "metadata": {},
   "outputs": [
    {
     "output_type": "execute_result",
     "data": {
      "text/plain": [
       "array([[   58,    29],\n",
       "       [ 1560, 15558]], dtype=int64)"
      ]
     },
     "metadata": {},
     "execution_count": 106
    }
   ],
   "source": [
    "# Display the confusion matrix\n",
    "confusion_matrix(y_test, predictions)"
   ]
  },
  {
   "cell_type": "code",
   "execution_count": 133,
   "metadata": {},
   "outputs": [
    {
     "output_type": "stream",
     "name": "stdout",
     "text": [
      "                   pre       rec       spe        f1       geo       iba       sup\n\n  high_risk       0.07      0.91      0.94      0.14      0.93      0.85        87\n   low_risk       1.00      0.94      0.91      0.97      0.93      0.86     17118\n\navg / total       0.99      0.94      0.91      0.97      0.93      0.86     17205\n\n"
     ]
    }
   ],
   "source": [
    "# Print the imbalanced classification report for Easy Ensemble AdaBoost Classifier\n",
    "print(classification_report_imbalanced(y_test, predictions))"
   ]
  },
  {
   "cell_type": "code",
   "execution_count": null,
   "metadata": {},
   "outputs": [],
   "source": []
  }
 ],
 "metadata": {
  "kernelspec": {
   "display_name": "mlenv",
   "language": "python",
   "name": "mlenv"
  },
  "language_info": {
   "codemirror_mode": {
    "name": "ipython",
    "version": 3
   },
   "file_extension": ".py",
   "mimetype": "text/x-python",
   "name": "python",
   "nbconvert_exporter": "python",
   "pygments_lexer": "ipython3",
   "version": "3.9.4"
  }
 },
 "nbformat": 4,
 "nbformat_minor": 2
}